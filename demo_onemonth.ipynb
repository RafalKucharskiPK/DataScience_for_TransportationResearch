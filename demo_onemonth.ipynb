{
 "cells": [
  {
   "cell_type": "markdown",
   "metadata": {},
   "source": [
    "# Data Science in Transportation\n",
    "***\n",
    "## Step-by-step tutorial with `python` `pandas` and NYC citi bikes data\n",
    "***\n",
    "> (c) Rafal Kucharski Cracow University of Technology, Poland, rkucharski_at_pk.edu.pl\n",
    "\n",
    "<img src=\"./data/newplot.png\">\n",
    "In this demo you will learn how to download, preprocess, process, filter, analyze, understand, synthesize and visualize data from over 4 000 000 bike trips recorded on summer 2017 in NYC.\n",
    "\n",
    "Specifically you will:\n",
    "1. download the online data from static files (zipped csv).\n",
    "2. parse it to `pandas DataFrame` - powerful data structure for data science.  \n",
    "3. download the online real-time data from json files and parse it to `pandas DataFrame`\n",
    "4. inspect the data stored in `pandas.DataFrame`, view columns, index, rows, filter the data, statstically descibe it.\n",
    "5. plot the data on matplotlib and plotly graphs\n",
    "6. plot data on the map with `plotly`\n",
    "7. filter the data, group it, create multiindexes, pivot it, concatenate it, fill nans, cut tails over 95th percentile and more useful `pandas` tricks.\n",
    "8. create and use powerful `datetimeindex`\n",
    "9. plot histograms, regression plot, heatmap with `seaborn`\n",
    "10. create station statistics from the trip records\n",
    "11. create matrices, OD matrix and travel times matrix.\n",
    "12. fit the observed data to the best of selectged four distributions with `scipy`\n",
    "13. Aggregate the data over the days, to understand the mobility over the weekdays, hours, etc.\n",
    "14. Fuse the real-time data of station loads with the historical data to visualise predicated situation at a selected bicycle station.\n",
    "\n",
    "The examples presented are aimed to cover most of functionalities needed to kick-off with data science using python, pandas and other powerful modules like sklearn, scipy and numpy and visualize it with matplotlib, plotly and seaborn.\n",
    "\n"
   ]
  },
  {
   "cell_type": "markdown",
   "metadata": {},
   "source": [
    "# Prerequisites\n",
    "Before you start make sure you have installed:\n",
    "* [python](https://www.python.org/downloads/) (tested for 3.6.3 version)\n",
    "* python IDE (personally I reccommend [pyCharm](https://www.jetbrains.com/pycharm/))\n",
    "* pip integrated with shell, so that `pip install pandas` will work (in case of problems, which are common, keep calm and refer to this [SO post](https://stackoverflow.com/questions/4750806/how-do-i-install-pip-on-windows)\n"
   ]
  },
  {
   "cell_type": "markdown",
   "metadata": {},
   "source": [
    "### Modules needed\n",
    "make sure this code will work in your python IDE [how-to](https://www.jetbrains.com/help/pycharm/running-console.html)\n",
    "if any line of the code raises error, try calling `pip install module name` from your console, or [use PyCharm](https://www.jetbrains.com/help/pycharm/installing-uninstalling-and-upgrading-packages.html). \n",
    "\n",
    "*** \n",
    "before entering the classrom make sure, you can execute the below cell in jupyter and it will not raise errors.\n",
    "possible problems:\n",
    "* not installed modules: call `pip install module`, or [use PyCharm](https://www.jetbrains.com/help/pycharm/installing-uninstalling-and-upgrading-packages.html). \n",
    "* no pip available from pycharm / cmd (shell, terminal, command line) please consult this [SO post](https://stackoverflow.com/questions/4750806/how-do-i-install-pip-on-windows), otherwise try installing [anaconda](https://www.anaconda.com/download/#windows) and run jupyter directly from the installed jupyter appliaction.\n",
    "* jupyter not running [run jupyter from pyCharm](https://www.jetbrains.com/help/pycharm/using-ipython-notebook-with-product.html)"
   ]
  },
  {
   "cell_type": "code",
   "execution_count": 1,
   "metadata": {},
   "outputs": [],
   "source": [
    "import os  # operating system calls\n",
    "import pandas as pd  # coolest data sceince python module - extremely flexible and efficient\n",
    "import zipfile  # unzips zipped zips\n",
    "import matplotlib.pyplot as plt  # plots old school style, if you do not want plot.ly or sth similar\n",
    "import numpy as np  # math operations\n",
    "#from shapely.geometry import Point  # shapefile like add-on for pandas\n",
    "import plotly.plotly as py  # plot.ly python wrapper\n",
    "from plotly.graph_objs import Data, Scattermapbox, Marker, Layout, Box  # plotly objects\n",
    "import requests  # to scrap the data from the web\n",
    "import scipy.stats as st  # statistical \n",
    "import seaborn as sns  # statistical fancy tools\n",
    "import warnings  # python runtime warnings\n",
    "import scipy.stats as scipystats  # statistical models\n",
    "import seaborn as sns\n",
    "from sklearn.metrics.pairwise import pairwise_distances  # the classical mighty machine learning module\n",
    "warnings.filterwarnings('ignore')\n",
    "pd.options.display.float_format = '{:,.2f}'.format"
   ]
  },
  {
   "cell_type": "markdown",
   "metadata": {},
   "source": [
    "### Constants\n",
    "here I store paths, constants, styles, and all the code constants (parameters). I encourage you to use config.json for more complex solutions [SO post](https://stackoverflow.com/questions/19078170/python-how-would-you-save-a-simple-settings-config-file)"
   ]
  },
  {
   "cell_type": "code",
   "execution_count": 2,
   "metadata": {},
   "outputs": [],
   "source": [
    "topsize = 30\n",
    "\n",
    "LOW_WARN = 3\n",
    "HIGH_WARN = 3\n",
    "\n",
    "PLOT_STYLES = dict(\n",
    "    OK={'color': 'green', 'lw': 1, 'linestyle': '-'},\n",
    "    FULL={'color': 'red', 'lw': 2, 'linestyle': ':'},\n",
    "    EMPTY={'color': 'black', 'lw': 2, 'linestyle': ':'},\n",
    "    LOW={'color': 'yellow', 'lw': 1, 'linestyle': '--'},\n",
    "    HIGH={'color': 'yellow', 'lw': 1, 'linestyle': '--'})\n"
   ]
  },
  {
   "cell_type": "markdown",
   "metadata": {},
   "source": [
    "# 1.Data import\n",
    "> Use downloaded data, unzip it, parse to useful data structure\n",
    "\n",
    "We use freely available datasets provided by _citi bike_ available [here](https://www.citibikenyc.com/system-data)\n",
    "in this tutorial we focus on the historical data sets provided in this [amazon bucket](https://s3.amazonaws.com/tripdata/index.html)\n",
    "<br>\n",
    "for stability I copied three selected months (summer 2017) data to the repo [folder](https://github.com/RafalKucharskiPK/DataScience_for_TransportationResearch/tree/master/data)\n",
    "\n",
    "Here we:\n",
    "* walk through the `./data/` folder, \n",
    "* unzip all .zip archives to '.csv',\n",
    "* parse all `.csv.` files to `pandas DataFrame` (`pd.read_csv()`),\n",
    "* index the `DataFrame` by `datatimeindex` (useful for futher time related calculations)\n",
    "* concat several DataFrames to get a single processable data source (`pd.concat`).\n",
    "* delete unused data `del df[col]`\n"
   ]
  },
  {
   "cell_type": "code",
   "execution_count": 3,
   "metadata": {},
   "outputs": [
    {
     "name": "stdout",
     "output_type": "stream",
     "text": [
      "Reading 296MB file of 1,735,599 trips recorded on 201707\n"
     ]
    }
   ],
   "source": [
    "file = \"201707-citibike-tripdata.csv\"\n",
    "zip_ref = zipfile.ZipFile(os.path.join(\"./data/\", file + \".zip\"), 'r')  # unzip\n",
    "df = pd.read_csv(file)  # parse to pd.DataFrame\n",
    "df[\"starttime\"] = pd.to_datetime(df[\"starttime\"], format=\"%Y/%m/%d %H:%M:%S\")  # use 'starttime' column as index and parse it to datetime\n",
    "df.index = df[\"starttime\"]\n",
    "del df[\"starttime\"]  # now this column can be dropped (it is already an index)\n",
    "trips = df\n",
    "print(\"Reading {}MB file of {:,} trips recorded on {}\"\n",
    "      .format(int(os.path.getsize( file) / 1024 / 1024.0), trips.shape[0], file.split(\"-\")[0]))\n"
   ]
  },
  {
   "cell_type": "markdown",
   "metadata": {},
   "source": [
    "***\n",
    "# 2. Inspect, analyze, view the data\n",
    "> Here we show how to inspect the data, see the rows, columns, describe it statistically, execute bacic operations, filter the data."
   ]
  },
  {
   "cell_type": "code",
   "execution_count": 4,
   "metadata": {},
   "outputs": [
    {
     "data": {
      "text/plain": [
       "Index(['tripduration', 'stoptime', 'start station id', 'start station name',\n",
       "       'start station latitude', 'start station longitude', 'end station id',\n",
       "       'end station name', 'end station latitude', 'end station longitude',\n",
       "       'bikeid', 'usertype', 'birth year', 'gender'],\n",
       "      dtype='object')"
      ]
     },
     "execution_count": 4,
     "metadata": {},
     "output_type": "execute_result"
    }
   ],
   "source": [
    "trips.columns # columns of the DataFrame"
   ]
  },
  {
   "cell_type": "code",
   "execution_count": 5,
   "metadata": {},
   "outputs": [
    {
     "data": {
      "text/html": [
       "<div>\n",
       "<style scoped>\n",
       "    .dataframe tbody tr th:only-of-type {\n",
       "        vertical-align: middle;\n",
       "    }\n",
       "\n",
       "    .dataframe tbody tr th {\n",
       "        vertical-align: top;\n",
       "    }\n",
       "\n",
       "    .dataframe thead th {\n",
       "        text-align: right;\n",
       "    }\n",
       "</style>\n",
       "<table border=\"1\" class=\"dataframe\">\n",
       "  <thead>\n",
       "    <tr style=\"text-align: right;\">\n",
       "      <th></th>\n",
       "      <th>tripduration</th>\n",
       "      <th>stoptime</th>\n",
       "      <th>start station id</th>\n",
       "      <th>start station name</th>\n",
       "      <th>start station latitude</th>\n",
       "      <th>start station longitude</th>\n",
       "      <th>end station id</th>\n",
       "      <th>end station name</th>\n",
       "      <th>end station latitude</th>\n",
       "      <th>end station longitude</th>\n",
       "      <th>bikeid</th>\n",
       "      <th>usertype</th>\n",
       "      <th>birth year</th>\n",
       "      <th>gender</th>\n",
       "    </tr>\n",
       "    <tr>\n",
       "      <th>starttime</th>\n",
       "      <th></th>\n",
       "      <th></th>\n",
       "      <th></th>\n",
       "      <th></th>\n",
       "      <th></th>\n",
       "      <th></th>\n",
       "      <th></th>\n",
       "      <th></th>\n",
       "      <th></th>\n",
       "      <th></th>\n",
       "      <th></th>\n",
       "      <th></th>\n",
       "      <th></th>\n",
       "      <th></th>\n",
       "    </tr>\n",
       "  </thead>\n",
       "  <tbody>\n",
       "    <tr>\n",
       "      <th>2017-07-01 00:00:00</th>\n",
       "      <td>364</td>\n",
       "      <td>2017-07-01 00:06:05</td>\n",
       "      <td>539</td>\n",
       "      <td>Metropolitan Ave &amp; Bedford Ave</td>\n",
       "      <td>40.72</td>\n",
       "      <td>-73.96</td>\n",
       "      <td>3107</td>\n",
       "      <td>Bedford Ave &amp; Nassau Ave</td>\n",
       "      <td>40.72</td>\n",
       "      <td>-73.95</td>\n",
       "      <td>14744</td>\n",
       "      <td>Subscriber</td>\n",
       "      <td>1,986.00</td>\n",
       "      <td>1</td>\n",
       "    </tr>\n",
       "    <tr>\n",
       "      <th>2017-07-01 00:00:03</th>\n",
       "      <td>2142</td>\n",
       "      <td>2017-07-01 00:35:46</td>\n",
       "      <td>293</td>\n",
       "      <td>Lafayette St &amp; E 8 St</td>\n",
       "      <td>40.73</td>\n",
       "      <td>-73.99</td>\n",
       "      <td>3425</td>\n",
       "      <td>2 Ave  &amp; E 104 St</td>\n",
       "      <td>40.79</td>\n",
       "      <td>-73.94</td>\n",
       "      <td>19587</td>\n",
       "      <td>Subscriber</td>\n",
       "      <td>1,981.00</td>\n",
       "      <td>1</td>\n",
       "    </tr>\n",
       "    <tr>\n",
       "      <th>2017-07-01 00:00:08</th>\n",
       "      <td>328</td>\n",
       "      <td>2017-07-01 00:05:37</td>\n",
       "      <td>3242</td>\n",
       "      <td>Schermerhorn St &amp; Court St</td>\n",
       "      <td>40.69</td>\n",
       "      <td>-73.99</td>\n",
       "      <td>3397</td>\n",
       "      <td>Court St &amp; Nelson St</td>\n",
       "      <td>40.68</td>\n",
       "      <td>-74.00</td>\n",
       "      <td>27937</td>\n",
       "      <td>Subscriber</td>\n",
       "      <td>1,984.00</td>\n",
       "      <td>2</td>\n",
       "    </tr>\n",
       "    <tr>\n",
       "      <th>2017-07-01 00:00:11</th>\n",
       "      <td>2530</td>\n",
       "      <td>2017-07-01 00:42:22</td>\n",
       "      <td>2002</td>\n",
       "      <td>Wythe Ave &amp; Metropolitan Ave</td>\n",
       "      <td>40.72</td>\n",
       "      <td>-73.96</td>\n",
       "      <td>398</td>\n",
       "      <td>Atlantic Ave &amp; Furman St</td>\n",
       "      <td>40.69</td>\n",
       "      <td>-74.00</td>\n",
       "      <td>26066</td>\n",
       "      <td>Subscriber</td>\n",
       "      <td>1,985.00</td>\n",
       "      <td>1</td>\n",
       "    </tr>\n",
       "    <tr>\n",
       "      <th>2017-07-01 00:00:15</th>\n",
       "      <td>2534</td>\n",
       "      <td>2017-07-01 00:42:29</td>\n",
       "      <td>2002</td>\n",
       "      <td>Wythe Ave &amp; Metropolitan Ave</td>\n",
       "      <td>40.72</td>\n",
       "      <td>-73.96</td>\n",
       "      <td>398</td>\n",
       "      <td>Atlantic Ave &amp; Furman St</td>\n",
       "      <td>40.69</td>\n",
       "      <td>-74.00</td>\n",
       "      <td>29408</td>\n",
       "      <td>Subscriber</td>\n",
       "      <td>1,982.00</td>\n",
       "      <td>2</td>\n",
       "    </tr>\n",
       "  </tbody>\n",
       "</table>\n",
       "</div>"
      ],
      "text/plain": [
       "                     tripduration             stoptime  start station id  \\\n",
       "starttime                                                                  \n",
       "2017-07-01 00:00:00           364  2017-07-01 00:06:05               539   \n",
       "2017-07-01 00:00:03          2142  2017-07-01 00:35:46               293   \n",
       "2017-07-01 00:00:08           328  2017-07-01 00:05:37              3242   \n",
       "2017-07-01 00:00:11          2530  2017-07-01 00:42:22              2002   \n",
       "2017-07-01 00:00:15          2534  2017-07-01 00:42:29              2002   \n",
       "\n",
       "                                 start station name  start station latitude  \\\n",
       "starttime                                                                     \n",
       "2017-07-01 00:00:00  Metropolitan Ave & Bedford Ave                   40.72   \n",
       "2017-07-01 00:00:03           Lafayette St & E 8 St                   40.73   \n",
       "2017-07-01 00:00:08      Schermerhorn St & Court St                   40.69   \n",
       "2017-07-01 00:00:11    Wythe Ave & Metropolitan Ave                   40.72   \n",
       "2017-07-01 00:00:15    Wythe Ave & Metropolitan Ave                   40.72   \n",
       "\n",
       "                     start station longitude  end station id  \\\n",
       "starttime                                                      \n",
       "2017-07-01 00:00:00                   -73.96            3107   \n",
       "2017-07-01 00:00:03                   -73.99            3425   \n",
       "2017-07-01 00:00:08                   -73.99            3397   \n",
       "2017-07-01 00:00:11                   -73.96             398   \n",
       "2017-07-01 00:00:15                   -73.96             398   \n",
       "\n",
       "                             end station name  end station latitude  \\\n",
       "starttime                                                             \n",
       "2017-07-01 00:00:00  Bedford Ave & Nassau Ave                 40.72   \n",
       "2017-07-01 00:00:03         2 Ave  & E 104 St                 40.79   \n",
       "2017-07-01 00:00:08      Court St & Nelson St                 40.68   \n",
       "2017-07-01 00:00:11  Atlantic Ave & Furman St                 40.69   \n",
       "2017-07-01 00:00:15  Atlantic Ave & Furman St                 40.69   \n",
       "\n",
       "                     end station longitude  bikeid    usertype  birth year  \\\n",
       "starttime                                                                    \n",
       "2017-07-01 00:00:00                 -73.95   14744  Subscriber    1,986.00   \n",
       "2017-07-01 00:00:03                 -73.94   19587  Subscriber    1,981.00   \n",
       "2017-07-01 00:00:08                 -74.00   27937  Subscriber    1,984.00   \n",
       "2017-07-01 00:00:11                 -74.00   26066  Subscriber    1,985.00   \n",
       "2017-07-01 00:00:15                 -74.00   29408  Subscriber    1,982.00   \n",
       "\n",
       "                     gender  \n",
       "starttime                    \n",
       "2017-07-01 00:00:00       1  \n",
       "2017-07-01 00:00:03       1  \n",
       "2017-07-01 00:00:08       2  \n",
       "2017-07-01 00:00:11       1  \n",
       "2017-07-01 00:00:15       2  "
      ]
     },
     "execution_count": 5,
     "metadata": {},
     "output_type": "execute_result"
    }
   ],
   "source": [
    "trips.head() # brief inspection of first 5 rows of Data"
   ]
  },
  {
   "cell_type": "code",
   "execution_count": 6,
   "metadata": {},
   "outputs": [
    {
     "name": "stdout",
     "output_type": "stream",
     "text": [
      "Mean trip duration is:  1060.1433597276791\n"
     ]
    }
   ],
   "source": [
    "print(\"Mean trip duration is: \", trips.tripduration.mean())"
   ]
  },
  {
   "cell_type": "code",
   "execution_count": 7,
   "metadata": {},
   "outputs": [
    {
     "name": "stdout",
     "output_type": "stream",
     "text": [
      "Mean trip duration in July is :  1060.1433597276791\n"
     ]
    }
   ],
   "source": [
    "print(\"Mean trip duration in July is : \", trips.tripduration[trips.index.month==7].mean())"
   ]
  },
  {
   "cell_type": "code",
   "execution_count": 8,
   "metadata": {},
   "outputs": [
    {
     "name": "stdout",
     "output_type": "stream",
     "text": [
      "4207 \t trips started at station 470\n"
     ]
    }
   ],
   "source": [
    "print(len(trips[trips['start station id']==470]), \"\\t trips started at station 470\")"
   ]
  },
  {
   "cell_type": "code",
   "execution_count": 9,
   "metadata": {},
   "outputs": [
    {
     "name": "stdout",
     "output_type": "stream",
     "text": [
      "Top 10 destinations from station 470\n"
     ]
    },
    {
     "data": {
      "text/plain": [
       "end station id\n",
       "3255    155\n",
       "459     152\n",
       "435     130\n",
       "494     105\n",
       "523     101\n",
       "212      84\n",
       "402      79\n",
       "462      78\n",
       "382      69\n",
       "490      59\n",
       "dtype: int64"
      ]
     },
     "execution_count": 9,
     "metadata": {},
     "output_type": "execute_result"
    }
   ],
   "source": [
    "print(\"Top 10 destinations from station 470\")\n",
    "trips[trips['start station id']==470].groupby('end station id').size().sort_values(ascending=False).head(10)"
   ]
  },
  {
   "cell_type": "code",
   "execution_count": 10,
   "metadata": {},
   "outputs": [
    {
     "data": {
      "text/html": [
       "<div>\n",
       "<style scoped>\n",
       "    .dataframe tbody tr th:only-of-type {\n",
       "        vertical-align: middle;\n",
       "    }\n",
       "\n",
       "    .dataframe tbody tr th {\n",
       "        vertical-align: top;\n",
       "    }\n",
       "\n",
       "    .dataframe thead th {\n",
       "        text-align: right;\n",
       "    }\n",
       "</style>\n",
       "<table border=\"1\" class=\"dataframe\">\n",
       "  <thead>\n",
       "    <tr style=\"text-align: right;\">\n",
       "      <th></th>\n",
       "      <th>tripduration</th>\n",
       "      <th>start station id</th>\n",
       "      <th>start station latitude</th>\n",
       "      <th>start station longitude</th>\n",
       "      <th>end station id</th>\n",
       "      <th>end station latitude</th>\n",
       "      <th>end station longitude</th>\n",
       "      <th>bikeid</th>\n",
       "      <th>birth year</th>\n",
       "      <th>gender</th>\n",
       "    </tr>\n",
       "  </thead>\n",
       "  <tbody>\n",
       "    <tr>\n",
       "      <th>count</th>\n",
       "      <td>1,735,599.00</td>\n",
       "      <td>1,735,599.00</td>\n",
       "      <td>1,735,599.00</td>\n",
       "      <td>1,735,599.00</td>\n",
       "      <td>1,735,599.00</td>\n",
       "      <td>1,735,599.00</td>\n",
       "      <td>1,735,599.00</td>\n",
       "      <td>1,735,599.00</td>\n",
       "      <td>1,507,003.00</td>\n",
       "      <td>1,735,599.00</td>\n",
       "    </tr>\n",
       "    <tr>\n",
       "      <th>mean</th>\n",
       "      <td>1,060.14</td>\n",
       "      <td>1,371.50</td>\n",
       "      <td>40.74</td>\n",
       "      <td>-73.99</td>\n",
       "      <td>1,370.97</td>\n",
       "      <td>40.74</td>\n",
       "      <td>-73.99</td>\n",
       "      <td>23,170.56</td>\n",
       "      <td>1,979.59</td>\n",
       "      <td>1.10</td>\n",
       "    </tr>\n",
       "    <tr>\n",
       "      <th>std</th>\n",
       "      <td>9,622.46</td>\n",
       "      <td>1,348.57</td>\n",
       "      <td>0.03</td>\n",
       "      <td>0.02</td>\n",
       "      <td>1,348.95</td>\n",
       "      <td>0.03</td>\n",
       "      <td>0.02</td>\n",
       "      <td>4,988.90</td>\n",
       "      <td>11.56</td>\n",
       "      <td>0.60</td>\n",
       "    </tr>\n",
       "    <tr>\n",
       "      <th>min</th>\n",
       "      <td>61.00</td>\n",
       "      <td>72.00</td>\n",
       "      <td>40.66</td>\n",
       "      <td>-74.02</td>\n",
       "      <td>72.00</td>\n",
       "      <td>40.66</td>\n",
       "      <td>-74.07</td>\n",
       "      <td>14,529.00</td>\n",
       "      <td>1,874.00</td>\n",
       "      <td>0.00</td>\n",
       "    </tr>\n",
       "    <tr>\n",
       "      <th>25%</th>\n",
       "      <td>395.00</td>\n",
       "      <td>359.00</td>\n",
       "      <td>40.72</td>\n",
       "      <td>-74.00</td>\n",
       "      <td>359.00</td>\n",
       "      <td>40.72</td>\n",
       "      <td>-74.00</td>\n",
       "      <td>18,402.00</td>\n",
       "      <td>1,972.00</td>\n",
       "      <td>1.00</td>\n",
       "    </tr>\n",
       "    <tr>\n",
       "      <th>50%</th>\n",
       "      <td>676.00</td>\n",
       "      <td>486.00</td>\n",
       "      <td>40.74</td>\n",
       "      <td>-73.99</td>\n",
       "      <td>485.00</td>\n",
       "      <td>40.74</td>\n",
       "      <td>-73.99</td>\n",
       "      <td>25,191.00</td>\n",
       "      <td>1,983.00</td>\n",
       "      <td>1.00</td>\n",
       "    </tr>\n",
       "    <tr>\n",
       "      <th>75%</th>\n",
       "      <td>1,183.00</td>\n",
       "      <td>3,142.00</td>\n",
       "      <td>40.76</td>\n",
       "      <td>-73.98</td>\n",
       "      <td>3,141.00</td>\n",
       "      <td>40.76</td>\n",
       "      <td>-73.98</td>\n",
       "      <td>27,734.00</td>\n",
       "      <td>1,989.00</td>\n",
       "      <td>1.00</td>\n",
       "    </tr>\n",
       "    <tr>\n",
       "      <th>max</th>\n",
       "      <td>2,477,222.00</td>\n",
       "      <td>3,478.00</td>\n",
       "      <td>40.88</td>\n",
       "      <td>-73.90</td>\n",
       "      <td>3,478.00</td>\n",
       "      <td>40.88</td>\n",
       "      <td>-73.90</td>\n",
       "      <td>30,337.00</td>\n",
       "      <td>2,001.00</td>\n",
       "      <td>2.00</td>\n",
       "    </tr>\n",
       "  </tbody>\n",
       "</table>\n",
       "</div>"
      ],
      "text/plain": [
       "       tripduration  start station id  start station latitude  \\\n",
       "count  1,735,599.00      1,735,599.00            1,735,599.00   \n",
       "mean       1,060.14          1,371.50                   40.74   \n",
       "std        9,622.46          1,348.57                    0.03   \n",
       "min           61.00             72.00                   40.66   \n",
       "25%          395.00            359.00                   40.72   \n",
       "50%          676.00            486.00                   40.74   \n",
       "75%        1,183.00          3,142.00                   40.76   \n",
       "max    2,477,222.00          3,478.00                   40.88   \n",
       "\n",
       "       start station longitude  end station id  end station latitude  \\\n",
       "count             1,735,599.00    1,735,599.00          1,735,599.00   \n",
       "mean                    -73.99        1,370.97                 40.74   \n",
       "std                       0.02        1,348.95                  0.03   \n",
       "min                     -74.02           72.00                 40.66   \n",
       "25%                     -74.00          359.00                 40.72   \n",
       "50%                     -73.99          485.00                 40.74   \n",
       "75%                     -73.98        3,141.00                 40.76   \n",
       "max                     -73.90        3,478.00                 40.88   \n",
       "\n",
       "       end station longitude       bikeid   birth year       gender  \n",
       "count           1,735,599.00 1,735,599.00 1,507,003.00 1,735,599.00  \n",
       "mean                  -73.99    23,170.56     1,979.59         1.10  \n",
       "std                     0.02     4,988.90        11.56         0.60  \n",
       "min                   -74.07    14,529.00     1,874.00         0.00  \n",
       "25%                   -74.00    18,402.00     1,972.00         1.00  \n",
       "50%                   -73.99    25,191.00     1,983.00         1.00  \n",
       "75%                   -73.98    27,734.00     1,989.00         1.00  \n",
       "max                   -73.90    30,337.00     2,001.00         2.00  "
      ]
     },
     "execution_count": 10,
     "metadata": {},
     "output_type": "execute_result"
    }
   ],
   "source": [
    "trips.describe()  # general statistical description of data in DataFrame columns"
   ]
  },
  {
   "cell_type": "code",
   "execution_count": 11,
   "metadata": {},
   "outputs": [
    {
     "name": "stdout",
     "output_type": "stream",
     "text": [
      "Between 2017-06-01 and 2017-06-10 there were 0 trips\n"
     ]
    }
   ],
   "source": [
    "filtered_trips = trips.loc[\"2017-06-01\":\"2017-06-10\"]  # filter trips to a given date range\n",
    "print(\"Between {} and {} there were {} trips\".format(\"2017-06-01\",\"2017-06-10\",len(filtered_trips)))"
   ]
  },
  {
   "cell_type": "markdown",
   "metadata": {},
   "source": [
    "# 3. Process the data\n",
    "> Here we use the data from `trips DataFrame` to create the tabel of bicycle stations. We plot its loads (number of trips per station). This is far from optimal, the purpose to explain with illustrative example, not to optimize the code.\n",
    "\n",
    "Specifically here we:\n",
    "* use `pd.df[col].unique()` to get unique origin and destination stations.\n",
    "* merge the two (union on two sets) with `np.union1d` \n",
    "* iterate over stations and use mean of its longtitude and latitude \n",
    "* use number of origin trips as a futher scale\n",
    "* use `shapely` to store lonlat Point - for further use in GIS applications."
   ]
  },
  {
   "cell_type": "code",
   "execution_count": 12,
   "metadata": {},
   "outputs": [],
   "source": [
    "st = pd.DataFrame(np.union1d(trips['start station id'].unique(),\n",
    "                             trips['end station id'].unique()),\n",
    "                  columns=[\"station_id\"])\n",
    "locs = list()\n",
    "sizes = list()\n",
    "for index, row in st.iterrows():\n",
    "    locs.append(\n",
    "        [trips[trips['start station id'] == row[\"station_id\"]]['start station longitude'].mean(),\n",
    "         trips[trips['start station id'] == row[\"station_id\"]]['start station latitude'].mean()]\n",
    "    )\n",
    "    sizes.append(len(trips[trips['start station id'] == row[\"station_id\"]]))\n",
    "                 \n",
    "#st['pos'] = [Point(loc[0], loc[1]) for loc in locs]\n",
    "st['lon'] = [loc[0] for loc in locs]\n",
    "st['lat'] = [loc[1] for loc in locs]\n",
    "st['orig_trips'] = sizes\n",
    "stations = st.set_index(\"station_id\")"
   ]
  },
  {
   "cell_type": "markdown",
   "metadata": {},
   "source": [
    "Now we will plot the data on the map using `plotly`\n",
    "***"
   ]
  },
  {
   "cell_type": "code",
   "execution_count": 13,
   "metadata": {},
   "outputs": [
    {
     "data": {
      "text/html": [
       "<iframe id=\"igraph\" scrolling=\"no\" style=\"border:none;\" seamless=\"seamless\" src=\"https://plot.ly/~rkucharski/18.embed\" height=\"525px\" width=\"100%\"></iframe>"
      ],
      "text/plain": [
       "<plotly.tools.PlotlyDisplay object>"
      ]
     },
     "execution_count": 13,
     "metadata": {},
     "output_type": "execute_result"
    }
   ],
   "source": [
    "import plotly \n",
    "plotly.tools.set_config_file(world_readable=True,\n",
    "                                sharing='public')\n",
    "plotly.tools.set_credentials_file(username='rkucharski',\n",
    "                                     api_key=\"w1LROCX3bYA8amfuLA4g\")\n",
    "data = [Scattermapbox(\n",
    "            lat=stations.lat, lon=stations.lon,       \n",
    "            mode='markers',\n",
    "            marker=Marker(\n",
    "                size= 30* (stations.orig_trips / stations.orig_trips.max()),\n",
    "                opacity=0.7\n",
    "            ),\n",
    "            text=\"Station: \",\n",
    "            hoverinfo='text'\n",
    "        )]\n",
    "    \n",
    "layout = Layout(\n",
    "    title='Stations of the system with their capacities',\n",
    "    autosize=True,\n",
    "    hovermode='closest',\n",
    "    showlegend=False,\n",
    "    mapbox=dict(\n",
    "            bearing=0,\n",
    "            center=dict(\n",
    "                lat=40.75,\n",
    "                lon=-73.95\n",
    "            ),\n",
    "            pitch=0,\n",
    "            zoom=12,\n",
    "            style='light'\n",
    "        ),\n",
    "    )\n",
    "fig = dict(data=data, layout=layout)\n",
    "py.iplot(fig, filename='CITI stations')"
   ]
  },
  {
   "cell_type": "markdown",
   "metadata": {},
   "source": [
    "# 4. Get Real-time data\n",
    "> Here we use the real time online source of data from https://www.citibikenyc.com/system-data, stored in json-like data online. We process the station_status to see how many bicycles and slots is there available (now)."
   ]
  },
  {
   "cell_type": "code",
   "execution_count": 14,
   "metadata": {},
   "outputs": [],
   "source": [
    "json = requests.get(\"https://gbfs.citibikenyc.com/gbfs/en/station_status.json\").json()\n",
    "data = json['data']['stations']\n",
    "station_status = pd.DataFrame(data)\n",
    "station_status = station_status.set_index(\"station_id\")"
   ]
  },
  {
   "cell_type": "code",
   "execution_count": 15,
   "metadata": {},
   "outputs": [
    {
     "name": "stdout",
     "output_type": "stream",
     "text": [
      "Count empty stations\n"
     ]
    },
    {
     "data": {
      "text/plain": [
       "105"
      ]
     },
     "execution_count": 15,
     "metadata": {},
     "output_type": "execute_result"
    }
   ],
   "source": [
    "print(\"Count empty stations\")\n",
    "station_status[station_status.num_bikes_available == 0].shape[0]"
   ]
  },
  {
   "cell_type": "code",
   "execution_count": 16,
   "metadata": {},
   "outputs": [
    {
     "name": "stdout",
     "output_type": "stream",
     "text": [
      "10 full stations\n"
     ]
    },
    {
     "data": {
      "text/plain": [
       "station_id\n",
       "146    0\n",
       "259    0\n",
       "345    0\n",
       "380    0\n",
       "382    0\n",
       "385    0\n",
       "401    0\n",
       "414    0\n",
       "415    0\n",
       "418    0\n",
       "Name: num_docks_available, dtype: int64"
      ]
     },
     "execution_count": 16,
     "metadata": {},
     "output_type": "execute_result"
    }
   ],
   "source": [
    "print(\"10 full stations\")\n",
    "station_status[station_status.num_docks_available==0].num_docks_available.nsmallest(10)"
   ]
  },
  {
   "cell_type": "code",
   "execution_count": 17,
   "metadata": {},
   "outputs": [
    {
     "data": {
      "image/png": "[encoded data removed]",
      "text/plain": [
       "<Figure size 432x288 with 1 Axes>"
      ]
     },
     "metadata": {},
     "output_type": "display_data"
    }
   ],
   "source": [
    "sns.regplot(station_status.num_docks_available, station_status.num_bikes_available)\n",
    "plt.title(\"Regression between number of available docks and bikes ... completely useless.\")\n",
    "plt.show()"
   ]
  },
  {
   "cell_type": "markdown",
   "metadata": {},
   "source": [
    "# 5. Pivot the data to retrieve matrices (OD matrix, travel time matrix)\n",
    "> Here we use `pandas.groupby` with two group levels to get the od matrix. Then we normalize the data to get splitting rates/probability/shares/..."
   ]
  },
  {
   "cell_type": "code",
   "execution_count": 18,
   "metadata": {},
   "outputs": [],
   "source": [
    "matrix = trips.groupby(by=['start station id', 'end station id']) # group with two indexes\n",
    "OD = matrix.size()  # make trip matrix\n",
    "pd.options.display.float_format = '{:,.0f}'.format\n",
    "OD = OD.unstack().fillna(0) # fill na with zeros, unstack the column matrix to classic view"
   ]
  },
  {
   "cell_type": "code",
   "execution_count": 19,
   "metadata": {},
   "outputs": [
    {
     "data": {
      "text/html": [
       "<div>\n",
       "<style scoped>\n",
       "    .dataframe tbody tr th:only-of-type {\n",
       "        vertical-align: middle;\n",
       "    }\n",
       "\n",
       "    .dataframe tbody tr th {\n",
       "        vertical-align: top;\n",
       "    }\n",
       "\n",
       "    .dataframe thead th {\n",
       "        text-align: right;\n",
       "    }\n",
       "</style>\n",
       "<table border=\"1\" class=\"dataframe\">\n",
       "  <thead>\n",
       "    <tr style=\"text-align: right;\">\n",
       "      <th>end station id</th>\n",
       "      <th>72</th>\n",
       "      <th>79</th>\n",
       "      <th>82</th>\n",
       "      <th>83</th>\n",
       "      <th>116</th>\n",
       "      <th>119</th>\n",
       "      <th>120</th>\n",
       "      <th>127</th>\n",
       "      <th>128</th>\n",
       "      <th>143</th>\n",
       "      <th>...</th>\n",
       "      <th>3464</th>\n",
       "      <th>3466</th>\n",
       "      <th>3468</th>\n",
       "      <th>3469</th>\n",
       "      <th>3470</th>\n",
       "      <th>3472</th>\n",
       "      <th>3474</th>\n",
       "      <th>3476</th>\n",
       "      <th>3477</th>\n",
       "      <th>3478</th>\n",
       "    </tr>\n",
       "    <tr>\n",
       "      <th>start station id</th>\n",
       "      <th></th>\n",
       "      <th></th>\n",
       "      <th></th>\n",
       "      <th></th>\n",
       "      <th></th>\n",
       "      <th></th>\n",
       "      <th></th>\n",
       "      <th></th>\n",
       "      <th></th>\n",
       "      <th></th>\n",
       "      <th></th>\n",
       "      <th></th>\n",
       "      <th></th>\n",
       "      <th></th>\n",
       "      <th></th>\n",
       "      <th></th>\n",
       "      <th></th>\n",
       "      <th></th>\n",
       "      <th></th>\n",
       "      <th></th>\n",
       "      <th></th>\n",
       "    </tr>\n",
       "  </thead>\n",
       "  <tbody>\n",
       "    <tr>\n",
       "      <th>72</th>\n",
       "      <td>102</td>\n",
       "      <td>4</td>\n",
       "      <td>0</td>\n",
       "      <td>0</td>\n",
       "      <td>6</td>\n",
       "      <td>0</td>\n",
       "      <td>0</td>\n",
       "      <td>19</td>\n",
       "      <td>4</td>\n",
       "      <td>1</td>\n",
       "      <td>...</td>\n",
       "      <td>4</td>\n",
       "      <td>16</td>\n",
       "      <td>0</td>\n",
       "      <td>0</td>\n",
       "      <td>0</td>\n",
       "      <td>25</td>\n",
       "      <td>3</td>\n",
       "      <td>0</td>\n",
       "      <td>0</td>\n",
       "      <td>0</td>\n",
       "    </tr>\n",
       "    <tr>\n",
       "      <th>79</th>\n",
       "      <td>6</td>\n",
       "      <td>40</td>\n",
       "      <td>0</td>\n",
       "      <td>1</td>\n",
       "      <td>4</td>\n",
       "      <td>0</td>\n",
       "      <td>1</td>\n",
       "      <td>25</td>\n",
       "      <td>22</td>\n",
       "      <td>0</td>\n",
       "      <td>...</td>\n",
       "      <td>0</td>\n",
       "      <td>0</td>\n",
       "      <td>0</td>\n",
       "      <td>0</td>\n",
       "      <td>0</td>\n",
       "      <td>7</td>\n",
       "      <td>9</td>\n",
       "      <td>0</td>\n",
       "      <td>0</td>\n",
       "      <td>0</td>\n",
       "    </tr>\n",
       "    <tr>\n",
       "      <th>82</th>\n",
       "      <td>0</td>\n",
       "      <td>1</td>\n",
       "      <td>51</td>\n",
       "      <td>0</td>\n",
       "      <td>1</td>\n",
       "      <td>2</td>\n",
       "      <td>0</td>\n",
       "      <td>0</td>\n",
       "      <td>8</td>\n",
       "      <td>0</td>\n",
       "      <td>...</td>\n",
       "      <td>0</td>\n",
       "      <td>0</td>\n",
       "      <td>0</td>\n",
       "      <td>0</td>\n",
       "      <td>0</td>\n",
       "      <td>2</td>\n",
       "      <td>0</td>\n",
       "      <td>0</td>\n",
       "      <td>0</td>\n",
       "      <td>0</td>\n",
       "    </tr>\n",
       "    <tr>\n",
       "      <th>83</th>\n",
       "      <td>0</td>\n",
       "      <td>0</td>\n",
       "      <td>0</td>\n",
       "      <td>24</td>\n",
       "      <td>0</td>\n",
       "      <td>1</td>\n",
       "      <td>18</td>\n",
       "      <td>0</td>\n",
       "      <td>0</td>\n",
       "      <td>8</td>\n",
       "      <td>...</td>\n",
       "      <td>0</td>\n",
       "      <td>0</td>\n",
       "      <td>0</td>\n",
       "      <td>0</td>\n",
       "      <td>0</td>\n",
       "      <td>0</td>\n",
       "      <td>0</td>\n",
       "      <td>0</td>\n",
       "      <td>0</td>\n",
       "      <td>0</td>\n",
       "    </tr>\n",
       "    <tr>\n",
       "      <th>116</th>\n",
       "      <td>6</td>\n",
       "      <td>13</td>\n",
       "      <td>0</td>\n",
       "      <td>0</td>\n",
       "      <td>52</td>\n",
       "      <td>0</td>\n",
       "      <td>1</td>\n",
       "      <td>47</td>\n",
       "      <td>18</td>\n",
       "      <td>0</td>\n",
       "      <td>...</td>\n",
       "      <td>11</td>\n",
       "      <td>2</td>\n",
       "      <td>0</td>\n",
       "      <td>0</td>\n",
       "      <td>0</td>\n",
       "      <td>13</td>\n",
       "      <td>5</td>\n",
       "      <td>0</td>\n",
       "      <td>0</td>\n",
       "      <td>0</td>\n",
       "    </tr>\n",
       "  </tbody>\n",
       "</table>\n",
       "<p>5 rows × 634 columns</p>\n",
       "</div>"
      ],
      "text/plain": [
       "end station id    72    79    82    83    116   119   120   127   128   143   \\\n",
       "start station id                                                               \n",
       "72                 102     4     0     0     6     0     0    19     4     1   \n",
       "79                   6    40     0     1     4     0     1    25    22     0   \n",
       "82                   0     1    51     0     1     2     0     0     8     0   \n",
       "83                   0     0     0    24     0     1    18     0     0     8   \n",
       "116                  6    13     0     0    52     0     1    47    18     0   \n",
       "\n",
       "end station id    ...   3464  3466  3468  3469  3470  3472  3474  3476  3477  \\\n",
       "start station id  ...                                                          \n",
       "72                ...      4    16     0     0     0    25     3     0     0   \n",
       "79                ...      0     0     0     0     0     7     9     0     0   \n",
       "82                ...      0     0     0     0     0     2     0     0     0   \n",
       "83                ...      0     0     0     0     0     0     0     0     0   \n",
       "116               ...     11     2     0     0     0    13     5     0     0   \n",
       "\n",
       "end station id    3478  \n",
       "start station id        \n",
       "72                   0  \n",
       "79                   0  \n",
       "82                   0  \n",
       "83                   0  \n",
       "116                  0  \n",
       "\n",
       "[5 rows x 634 columns]"
      ]
     },
     "execution_count": 19,
     "metadata": {},
     "output_type": "execute_result"
    }
   ],
   "source": [
    "OD.head() # show me first 5 rows of the matrix"
   ]
  },
  {
   "cell_type": "markdown",
   "metadata": {},
   "source": [
    "Relative matrix"
   ]
  },
  {
   "cell_type": "code",
   "execution_count": 20,
   "metadata": {},
   "outputs": [
    {
     "data": {
      "text/html": [
       "<div>\n",
       "<style scoped>\n",
       "    .dataframe tbody tr th:only-of-type {\n",
       "        vertical-align: middle;\n",
       "    }\n",
       "\n",
       "    .dataframe tbody tr th {\n",
       "        vertical-align: top;\n",
       "    }\n",
       "\n",
       "    .dataframe thead th {\n",
       "        text-align: right;\n",
       "    }\n",
       "</style>\n",
       "<table border=\"1\" class=\"dataframe\">\n",
       "  <thead>\n",
       "    <tr style=\"text-align: right;\">\n",
       "      <th>end station id</th>\n",
       "      <th>72</th>\n",
       "      <th>79</th>\n",
       "      <th>82</th>\n",
       "      <th>83</th>\n",
       "      <th>116</th>\n",
       "      <th>119</th>\n",
       "      <th>120</th>\n",
       "      <th>127</th>\n",
       "      <th>128</th>\n",
       "      <th>143</th>\n",
       "      <th>...</th>\n",
       "      <th>3464</th>\n",
       "      <th>3466</th>\n",
       "      <th>3468</th>\n",
       "      <th>3469</th>\n",
       "      <th>3470</th>\n",
       "      <th>3472</th>\n",
       "      <th>3474</th>\n",
       "      <th>3476</th>\n",
       "      <th>3477</th>\n",
       "      <th>3478</th>\n",
       "    </tr>\n",
       "    <tr>\n",
       "      <th>start station id</th>\n",
       "      <th></th>\n",
       "      <th></th>\n",
       "      <th></th>\n",
       "      <th></th>\n",
       "      <th></th>\n",
       "      <th></th>\n",
       "      <th></th>\n",
       "      <th></th>\n",
       "      <th></th>\n",
       "      <th></th>\n",
       "      <th></th>\n",
       "      <th></th>\n",
       "      <th></th>\n",
       "      <th></th>\n",
       "      <th></th>\n",
       "      <th></th>\n",
       "      <th></th>\n",
       "      <th></th>\n",
       "      <th></th>\n",
       "      <th></th>\n",
       "      <th></th>\n",
       "    </tr>\n",
       "  </thead>\n",
       "  <tbody>\n",
       "    <tr>\n",
       "      <th>72</th>\n",
       "      <td>0.025</td>\n",
       "      <td>0.001</td>\n",
       "      <td>0.000</td>\n",
       "      <td>0.000</td>\n",
       "      <td>0.001</td>\n",
       "      <td>0.000</td>\n",
       "      <td>0.000</td>\n",
       "      <td>0.005</td>\n",
       "      <td>0.001</td>\n",
       "      <td>0.000</td>\n",
       "      <td>...</td>\n",
       "      <td>0.001</td>\n",
       "      <td>0.004</td>\n",
       "      <td>0.000</td>\n",
       "      <td>0.000</td>\n",
       "      <td>0.000</td>\n",
       "      <td>0.006</td>\n",
       "      <td>0.001</td>\n",
       "      <td>0.000</td>\n",
       "      <td>0.000</td>\n",
       "      <td>0.000</td>\n",
       "    </tr>\n",
       "    <tr>\n",
       "      <th>79</th>\n",
       "      <td>0.002</td>\n",
       "      <td>0.014</td>\n",
       "      <td>0.000</td>\n",
       "      <td>0.000</td>\n",
       "      <td>0.001</td>\n",
       "      <td>0.000</td>\n",
       "      <td>0.000</td>\n",
       "      <td>0.009</td>\n",
       "      <td>0.008</td>\n",
       "      <td>0.000</td>\n",
       "      <td>...</td>\n",
       "      <td>0.000</td>\n",
       "      <td>0.000</td>\n",
       "      <td>0.000</td>\n",
       "      <td>0.000</td>\n",
       "      <td>0.000</td>\n",
       "      <td>0.002</td>\n",
       "      <td>0.003</td>\n",
       "      <td>0.000</td>\n",
       "      <td>0.000</td>\n",
       "      <td>0.000</td>\n",
       "    </tr>\n",
       "    <tr>\n",
       "      <th>82</th>\n",
       "      <td>0.000</td>\n",
       "      <td>0.001</td>\n",
       "      <td>0.039</td>\n",
       "      <td>0.000</td>\n",
       "      <td>0.001</td>\n",
       "      <td>0.002</td>\n",
       "      <td>0.000</td>\n",
       "      <td>0.000</td>\n",
       "      <td>0.006</td>\n",
       "      <td>0.000</td>\n",
       "      <td>...</td>\n",
       "      <td>0.000</td>\n",
       "      <td>0.000</td>\n",
       "      <td>0.000</td>\n",
       "      <td>0.000</td>\n",
       "      <td>0.000</td>\n",
       "      <td>0.002</td>\n",
       "      <td>0.000</td>\n",
       "      <td>0.000</td>\n",
       "      <td>0.000</td>\n",
       "      <td>0.000</td>\n",
       "    </tr>\n",
       "    <tr>\n",
       "      <th>83</th>\n",
       "      <td>0.000</td>\n",
       "      <td>0.000</td>\n",
       "      <td>0.000</td>\n",
       "      <td>0.014</td>\n",
       "      <td>0.000</td>\n",
       "      <td>0.001</td>\n",
       "      <td>0.011</td>\n",
       "      <td>0.000</td>\n",
       "      <td>0.000</td>\n",
       "      <td>0.005</td>\n",
       "      <td>...</td>\n",
       "      <td>0.000</td>\n",
       "      <td>0.000</td>\n",
       "      <td>0.000</td>\n",
       "      <td>0.000</td>\n",
       "      <td>0.000</td>\n",
       "      <td>0.000</td>\n",
       "      <td>0.000</td>\n",
       "      <td>0.000</td>\n",
       "      <td>0.000</td>\n",
       "      <td>0.000</td>\n",
       "    </tr>\n",
       "    <tr>\n",
       "      <th>116</th>\n",
       "      <td>0.001</td>\n",
       "      <td>0.003</td>\n",
       "      <td>0.000</td>\n",
       "      <td>0.000</td>\n",
       "      <td>0.013</td>\n",
       "      <td>0.000</td>\n",
       "      <td>0.000</td>\n",
       "      <td>0.012</td>\n",
       "      <td>0.004</td>\n",
       "      <td>0.000</td>\n",
       "      <td>...</td>\n",
       "      <td>0.003</td>\n",
       "      <td>0.000</td>\n",
       "      <td>0.000</td>\n",
       "      <td>0.000</td>\n",
       "      <td>0.000</td>\n",
       "      <td>0.003</td>\n",
       "      <td>0.001</td>\n",
       "      <td>0.000</td>\n",
       "      <td>0.000</td>\n",
       "      <td>0.000</td>\n",
       "    </tr>\n",
       "  </tbody>\n",
       "</table>\n",
       "<p>5 rows × 634 columns</p>\n",
       "</div>"
      ],
      "text/plain": [
       "end station id    72    79    82    83    116   119   120   127   128   143   \\\n",
       "start station id                                                               \n",
       "72               0.025 0.001 0.000 0.000 0.001 0.000 0.000 0.005 0.001 0.000   \n",
       "79               0.002 0.014 0.000 0.000 0.001 0.000 0.000 0.009 0.008 0.000   \n",
       "82               0.000 0.001 0.039 0.000 0.001 0.002 0.000 0.000 0.006 0.000   \n",
       "83               0.000 0.000 0.000 0.014 0.000 0.001 0.011 0.000 0.000 0.005   \n",
       "116              0.001 0.003 0.000 0.000 0.013 0.000 0.000 0.012 0.004 0.000   \n",
       "\n",
       "end station id    ...   3464  3466  3468  3469  3470  3472  3474  3476  3477  \\\n",
       "start station id  ...                                                          \n",
       "72                ...  0.001 0.004 0.000 0.000 0.000 0.006 0.001 0.000 0.000   \n",
       "79                ...  0.000 0.000 0.000 0.000 0.000 0.002 0.003 0.000 0.000   \n",
       "82                ...  0.000 0.000 0.000 0.000 0.000 0.002 0.000 0.000 0.000   \n",
       "83                ...  0.000 0.000 0.000 0.000 0.000 0.000 0.000 0.000 0.000   \n",
       "116               ...  0.003 0.000 0.000 0.000 0.000 0.003 0.001 0.000 0.000   \n",
       "\n",
       "end station id    3478  \n",
       "start station id        \n",
       "72               0.000  \n",
       "79               0.000  \n",
       "82               0.000  \n",
       "83               0.000  \n",
       "116              0.000  \n",
       "\n",
       "[5 rows x 634 columns]"
      ]
     },
     "execution_count": 20,
     "metadata": {},
     "output_type": "execute_result"
    }
   ],
   "source": [
    "relative_OD = matrix.size().groupby(level=0).apply(lambda x: x / float(x.sum()))\n",
    "relative_OD = relative_OD.unstack().fillna(0)\n",
    "pd.options.display.float_format = '{:,.3f}'.format\n",
    "relative_OD.head()"
   ]
  },
  {
   "cell_type": "code",
   "execution_count": 21,
   "metadata": {},
   "outputs": [
    {
     "data": {
      "image/png": "[encoded data removed]",
      "text/plain": [
       "<Figure size 432x288 with 2 Axes>"
      ]
     },
     "metadata": {},
     "output_type": "display_data"
    }
   ],
   "source": [
    "cmap = sns.cubehelix_palette(as_cmap=True, light=.9)\n",
    "cmap.set_under(\"1.1\")\n",
    "df_mtx = OD.as_matrix()\n",
    "cmap.set_under(\".5\")\n",
    "sns.heatmap(df_mtx, cmap= cmap)\n",
    "plt.title(\"Number of trips between stations - heatmap \\n(the darker the more trips)\")\n",
    "plt.show()"
   ]
  },
  {
   "cell_type": "markdown",
   "metadata": {},
   "source": [
    "## 6. Histograms and percentile filtering \n",
    "> Here we use retrieve travel times for a given OD pair and plot the distribution of this. After seeing that the right tail is very long, we filter the data to the 95th percentile"
   ]
  },
  {
   "cell_type": "code",
   "execution_count": 22,
   "metadata": {},
   "outputs": [
    {
     "data": {
      "image/png": "[encoded data removed]",
      "text/plain": [
       "<Figure size 432x288 with 1 Axes>"
      ]
     },
     "metadata": {},
     "output_type": "display_data"
    }
   ],
   "source": [
    "matrix = trips.groupby(by=['start station id', 'end station id'])  # pivot the trips to retrieve the matrix\n",
    "durations = matrix.get_group((127, 116)).tripduration  # access a single cell of the matrix\n",
    "durations.hist()\n",
    "durations = durations[durations < durations.quantile(0.95)]  # filter below the given percentile\n",
    "durations.hist()\n",
    "\n",
    "plt.title(\"Travel time distribution between station 127 and 116. Filtered to .95 percentile and not filtered.\")\n",
    "plt.show()"
   ]
  },
  {
   "cell_type": "markdown",
   "metadata": {},
   "source": [
    "## 7. Distribution fitting\n",
    "> Here we fit the observed distribution of travel times. We use scipy to fit some selected fundamental distributions. We try to find the one with the lowes sse error. Here the gamma distribution fits the best, surprisinlgy lognorm distribution failed to fit."
   ]
  },
  {
   "cell_type": "code",
   "execution_count": 23,
   "metadata": {},
   "outputs": [
    {
     "name": "stdout",
     "output_type": "stream",
     "text": [
      "norm\trsse:0.0118049\t loc: 363.3\t scale: 363.3\n",
      "logno\trsse:0.0275785\t loc: 229.0\t scale: 229.0\n",
      "gamma\trsse:0.0118027\t loc: -3240.1\t scale: -3240.1\n",
      "rayle\trsse:0.0126143\t loc: 215.0\t scale: 215.0\n",
      "\n",
      "best \t: \t gamma\n"
     ]
    },
    {
     "data": {
      "image/png": "[encoded data removed]",
      "text/plain": [
       "<Figure size 432x288 with 1 Axes>"
      ]
     },
     "metadata": {},
     "output_type": "display_data"
    }
   ],
   "source": [
    "data = durations.as_matrix()  # we use the duration and parse it to numpy\n",
    "y, x = np.histogram(data, bins=25, density=True)  # this is the data from the histogram that we will be fitting\n",
    "x = (x + np.roll(x, -1))[:-1] / 2.0  # we roll the bins and use middle of each bein as the 'x'\n",
    "\n",
    "distributions = [scipystats.norm, scipystats.lognorm, scipystats.gamma, scipystats.rayleigh]  # four selected distributions to fit\n",
    "\n",
    "best_sse = np.inf  # ref best value to be overwritten\n",
    "\n",
    "plt.plot(x, y, lw=1, label = \"empirical\", linestyle=\"-\")  # set the mapltolib layout\n",
    "for distribution in distributions:\n",
    "\n",
    "    params = distribution.fit(data)  # do the fitting (assume uniform distribution of x in the data)\n",
    "\n",
    "    arg = params[:-2]  # other parameters of the distribution (if any)\n",
    "    loc = params[-2]  # location parameter of the distribution\n",
    "    scale = params[-1]  # scale parameter of the distribution\n",
    "    pdf = distribution.pdf(x, loc=loc, scale=scale, *arg) # reproduce the pdf\n",
    "    rsse = np.sqrt(np.sum(np.power(y - pdf, 2.0)))  # calulate the error\n",
    "    print(distribution.name[:5] + \"\\trsse:\" + '%.7f' % rsse + \"\\t loc: \" + '%.1f' % loc + \"\\t scale: \" + '%.1f' % loc)\n",
    "    plt.plot(x, pdf, label = distribution.name) # plot the fitted distribution.\n",
    "\n",
    "    if best_sse > rsse > 0:  # store this solution if best\n",
    "        best_distribution = distribution\n",
    "        best_params = params\n",
    "        best_sse = rsse\n",
    "\n",
    "print(\"\\nbest \\t: \\t \" + best_distribution.name)\n",
    "best_pdf = best_distribution.pdf(x, loc=best_params[-2], scale=best_params[-1], *best_params[:-2])\n",
    "plt.plot(x, best_pdf, lw=1, linestyle =\":\", color='red', label = 'best')\n",
    "plt.title(\"Travel time distribution between station 127 and 116 and distribution fit\")\n",
    "plt.legend()\n",
    "plt.show()"
   ]
  },
  {
   "cell_type": "markdown",
   "metadata": {},
   "source": [
    "## 8. Data syntesis\n",
    "> Here we aggregate the trips by day and provide basic statistics of a day. Usin goupby and pivot on the trips dataframe"
   ]
  },
  {
   "cell_type": "code",
   "execution_count": 24,
   "metadata": {},
   "outputs": [],
   "source": [
    "hours = trips['bikeid'].groupby(by=[trips.index.date, trips.index.hour]).count()  # total trips per day,  hour\n",
    "hours = hours.reset_index()  # flatten the multiindex pandas data frame\n",
    "hours.columns = [\"date\", \"hour\", \"trips\"]  # make understandable index names\n",
    "days = hours.pivot(index=\"date\", columns='hour', values='trips')  # use hours as columns (fields)\n",
    "days['totals'] = trips['bikeid'].groupby(by=[trips.index.date]).count()  # add totals\n",
    "days.index = pd.to_datetime(days.index)\n",
    "days[\"weekday\"] = days.index.dayofweek"
   ]
  },
  {
   "cell_type": "code",
   "execution_count": 25,
   "metadata": {},
   "outputs": [
    {
     "data": {
      "image/png": "[encoded data removed]",
      "text/plain": [
       "<Figure size 432x288 with 1 Axes>"
      ]
     },
     "metadata": {},
     "output_type": "display_data"
    }
   ],
   "source": [
    "ax = days[days.index.month==7].totals.plot(kind='bar', color = 'grey')\n",
    "plt.title(\"Total number of trips per day.\")\n",
    "ax.set_xticklabels(days[days.index.month==7].index.weekday_name)\n",
    "plt.show()"
   ]
  },
  {
   "cell_type": "code",
   "execution_count": 26,
   "metadata": {},
   "outputs": [
    {
     "data": {
      "image/png": "[encoded data removed]",
      "text/plain": [
       "<Figure size 432x288 with 1 Axes>"
      ]
     },
     "metadata": {},
     "output_type": "display_data"
    }
   ],
   "source": [
    "days[days.weekday == 3][[7, 8, 9, 10]].plot()\n",
    "plt.title(\"Number of trips on Wednesday morning hours.\")\n",
    "plt.show()"
   ]
  },
  {
   "cell_type": "code",
   "execution_count": 27,
   "metadata": {},
   "outputs": [
    {
     "data": {
      "image/png": "[encoded data removed]",
      "text/plain": [
       "<Figure size 432x288 with 1 Axes>"
      ]
     },
     "metadata": {},
     "output_type": "display_data"
    }
   ],
   "source": [
    "days[list(range(1, 24))].sum().plot()\n",
    "plt.title(\"Temporal profile of trips\")\n",
    "plt.show()"
   ]
  },
  {
   "cell_type": "code",
   "execution_count": 28,
   "metadata": {},
   "outputs": [
    {
     "data": {
      "image/png": "[encoded data removed]",
      "text/plain": [
       "<Figure size 432x288 with 1 Axes>"
      ]
     },
     "metadata": {},
     "output_type": "display_data"
    }
   ],
   "source": [
    "for i in range(6):\n",
    "    days[list(range(1, 24))][days.index.weekday == i].sum().plot()\n",
    "\n",
    "plt.title(\"Temporal profile of trips on a days of week\")\n",
    "plt.show()"
   ]
  },
  {
   "cell_type": "markdown",
   "metadata": {},
   "source": [
    "## 9. Station loads\n",
    "> Here we synthesize the station rentals and drops and visualize the results"
   ]
  },
  {
   "cell_type": "code",
   "execution_count": 30,
   "metadata": {},
   "outputs": [],
   "source": [
    "agg = \"5min\"  # time window to aggregate the data\n",
    "date_from=\"2017-07-05\"  # visualized day\n",
    "_trips = trips.loc[date_from]\n",
    "# this table is:\n",
    "# time as index (row),\n",
    "# start_station_id in columns,\n",
    "# bikeid when bike is rented from station (col) at time(row),\n",
    "# NaN otherwise\n",
    "rentals = _trips.pivot_table(index=_trips.index, columns='start station id', values='bikeid')\n",
    "# now we make it to boolean (1 for rentals, and 0 for all NaN's)\n",
    "# we resample it for 5min (param) intervals and do the cumulative sum\n",
    "rentals = rentals.notna().resample(agg).sum().cumsum().ffill()\n",
    "# the same with dropsin\n",
    "# we need the drop timestamp\n",
    "_trips = _trips.drop(_trips[_trips.tripduration > 7200].index)\n",
    "_trips = _trips.assign(drop_time=pd.Series(_trips.index + pd.to_timedelta(_trips.tripduration, unit='s')).values)\n",
    "\n",
    "drops = _trips.pivot_table(index=_trips.drop_time, columns='end station id', values='bikeid')\n",
    "drops = drops.notna().resample(agg).sum().cumsum().ffill().bfill()\n",
    "\n",
    "multiindex = {\"rentals\": rentals, \"drops\": drops}  # make data for multilevel column index\n",
    "balance = pd.concat(multiindex.values(), axis=1, keys=multiindex.keys())  # join two tables on columns (outer)\n",
    "balance.rentals = balance.rentals.ffill()  # fill intervals with no rents/drops with 0\n",
    "balance.drops = balance.drops.bfill()  # fill intervals with no rents/drops with 0\n",
    "balance.columns = balance.columns.swaplevel()  # swap the levels of multilevel index (more useful)\n"
   ]
  },
  {
   "cell_type": "markdown",
   "metadata": {},
   "source": [
    "#### Describe station loads"
   ]
  },
  {
   "cell_type": "code",
   "execution_count": 31,
   "metadata": {},
   "outputs": [],
   "source": [
    "initial_loads = station_status.num_bikes_available\n",
    "capacities = station_status.num_bikes_available+station_status.num_docks_available\n",
    "for station_id in set(balance.columns.get_level_values(0)):\n",
    "    if ('rentals' in list(balance[station_id].columns)) and\\\n",
    "            ('drops' in list(balance[station_id].columns)):\n",
    "        initial_load = initial_loads.loc[station_id] if station_id in initial_loads else 15\n",
    "        capacity = capacities.loc[station_id] if station_id in capacities else 15\n",
    "        # print(\"station: {}, capacity: {}, initial load: {}\".format(station_id, capacity, initial_load))\n",
    "\n",
    "        balance[station_id, \"total\"] = initial_load + balance[station_id].drops - balance[station_id].rentals\n",
    "        alerts = list()\n",
    "        for tot in balance[station_id, \"total\"]:\n",
    "            if tot < 0:\n",
    "                alerts.append(\"EMPTY\")\n",
    "            elif tot < LOW_WARN:\n",
    "                alerts.append(\"LOW\")\n",
    "            elif tot >= capacity:\n",
    "                alerts.append(\"FULL\")\n",
    "            elif tot >= capacity - HIGH_WARN:\n",
    "                alerts.append(\"HIGH\")\n",
    "            else:\n",
    "                alerts.append(\"OK\")\n",
    "        balance[station_id, \"alerts\"] = alerts"
   ]
  },
  {
   "cell_type": "markdown",
   "metadata": {},
   "source": [
    "#### Plot station status"
   ]
  },
  {
   "cell_type": "code",
   "execution_count": 32,
   "metadata": {},
   "outputs": [
    {
     "data": {
      "image/png": "[encoded data removed]",
      "text/plain": [
       "<Figure size 432x288 with 2 Axes>"
      ]
     },
     "metadata": {},
     "output_type": "display_data"
    }
   ],
   "source": [
    "station = balance[72]  #set the station to visualize\n",
    "fig, axes = plt.subplots(nrows=2, ncols=1)  # define matplotlib layout\n",
    "station[['rentals', 'drops']].plot(ax=axes[0])  # cumulated renatls and drops\n",
    "_cap = station_status.iloc[72].num_bikes_available+station_status.iloc[72].num_docks_available\n",
    "#plot conditioanlly station load temporal profile\n",
    "for i in station.alerts.unique():\n",
    "    df = station.where(station.alerts == i).total\n",
    "    df.plot(ax=axes[1], color=PLOT_STYLES[i]['color'], lw=PLOT_STYLES[i]['lw'])\n",
    "\n",
    "axes[1].axhline(y=_cap,color='black', linestyle='--', lw=0.8)\n",
    "axes[1].axhline(y=_cap-HIGH_WARN,color='gray', linestyle=':', lw=0.5)\n",
    "axes[1].axhline(y=LOW_WARN,color='gray', linestyle=':', lw=0.5)\n",
    "axes[1].axhline(y=0,color='black', linestyle='--', lw=0.8)\n",
    "\n",
    "axes[0].set_ylabel(\"Total drops and rentals\")\n",
    "axes[1].set_ylabel(\"Number of bikes available\")\n",
    "axes[0].set_title('Balance at station' + str(station_id))\n",
    "\n",
    "\n",
    "plt.text(0.8, 0.9, \"Report:\", horizontalalignment='left', verticalalignment='center', transform=axes[1].transAxes)\n",
    "#plt.text(0.8, 0.8, \"lost drops: \"+str(int(report['lost_drops'])), horizontalalignment='left',\n",
    "#         verticalalignment='center', transform=axes[1].transAxes)\n",
    "#plt.text(0.8, 0.7, \"lost rentals: \" + str(int(report['lost_rents'])), horizontalalignment='left',\n",
    "#         verticalalignment='center',\n",
    "#         transform=axes[1].transAxes)\n",
    "\n",
    "plt.show()\n"
   ]
  },
  {
   "cell_type": "markdown",
   "metadata": {},
   "source": [
    "# Summary\n",
    "Thanks to above steps you've learned basics and more of playing with data (big data) using capable freely available python libraries.\n",
    "The step-by-step hands on exemples allowed you to understand the basic calls, fucntions, methods and workflow of playing with data.\n",
    "You can get back to this tutorial and many of problems you might encounter can be soolved with the snippets of this notebook.\n",
    "***\n",
    "Further reading:\n",
    "1. stackoverflow.com\n",
    "2. stackoverflow.com\n",
    "3. number of wonderful data mining, data science, pandas blogs, tutorials available online - I am not naming any, just google your problem and for sure some clear and self explanatory tutorial/blog will appear."
   ]
  },
  {
   "cell_type": "markdown",
   "metadata": {},
   "source": [
    "# Excercises:\n",
    "To master the above skills, let's take a look at the following excercises.\n",
    "\n",
    "#### Getting the data\n",
    "1. How many trips were recorded on Feb 2017 (use data from different csv file, download it, unzip it and query pandas (section 1 and 2 of this notebook)?\n",
    "2. Try to retrieve the station names of stations from https://gbfs.citibikenyc.com/gbfs/es/station_information.json. \n",
    "3. Save station DataFrame to csv.\n",
    "4. And load it back.\n",
    "\n",
    "#### Pandas play with data\n",
    "1. What is the average tripduration (in the dataset that we used) for users above 40 years and is it above average?\n",
    "2. What is the share of women using station 151?\n",
    "3. What is the average duration of trips to station 389?\n",
    "4. Find the non-diagonal OD pair with highest number of trips.\n",
    "5. Prepare the OD matrix for July only.\n",
    "6. Filter the trips of duration above 95 percentile.\n",
    "\n",
    "#### Statistics:\n",
    "1. What is the distribution of trips from station 389: mean, std, min, max, quantiles?\n",
    "2. Is the age of biker correlated with the trip duration? try (`.corr()`), inspect the correlation with (`sns.regplot`) and try to fit the model with `sklearn.linear_model` (not covered in this course)\n",
    "3. Try to fit the trip duration model for all the trips (gravity model)\n",
    "4. What is mean daily number of trips and the confidence interval on the full dataset and on Tuesdays only - is the confidence interval narrower?\n",
    "\n",
    "\n",
    "\n",
    "#### Visualize the data:\n",
    "1. Plot total number of trips by women and men on the bar plot.\n",
    "2. Plot the actual station loads on plotly map.\n",
    "3. Plot the birthyear histogram\n",
    "4. Plot temporal profile (hourly) on number of trips on Tuesdays\n",
    "5. Visualize on plotly center of gravity of trip origins (lon, lat) and destinations at 7AM and at 4PM.\n"
   ]
  },
  {
   "cell_type": "markdown",
   "metadata": {},
   "source": [
    "***\n",
    "(c) Rafal Kucharski, Cracow University of Technology, Poland, rkucharski_at_pk.edu.pl"
   ]
  },
  {
   "cell_type": "code",
   "execution_count": null,
   "metadata": {},
   "outputs": [],
   "source": []
  }
 ],
 "metadata": {
  "kernelspec": {
   "display_name": "Python 3",
   "language": "python",
   "name": "python3"
  },
  "language_info": {
   "codemirror_mode": {
    "name": "ipython",
    "version": 3
   },
   "file_extension": ".py",
   "mimetype": "text/x-python",
   "name": "python",
   "nbconvert_exporter": "python",
   "pygments_lexer": "ipython3",
   "version": "3.6.5"
  }
 },
 "nbformat": 4,
 "nbformat_minor": 2
}
