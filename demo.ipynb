{
 "cells": [
  {
   "cell_type": "markdown",
   "metadata": {
    "collapsed": true
   },
   "source": [
    "# Data Science in Transportation\n",
    "***\n",
    "## Step-by-step tutorial with `python` `pandas` and NYC citi bikes data\n",
    "***\n",
    "> (c) Rafal Kucharski Cracow University of Technology, Poland, rkucharski_at_pk.edu.pl\n",
    "\n",
    "<img src=\"./data/newplot.png\">\n",
    "In this demo you will learn how to download, process, preprocess, filter, analyze, understand, synthesize and visualize data from 4 000 000 bike trips recorded on summer 2017 in NYC.\n",
    "\n",
    "Specifically you will:\n",
    "1. download the online data from static files (zipped csv).\n",
    "2. parse it to `pandas DataFrame` - powerful data structure for data science.  \n",
    "3. \n",
    "\n",
    "* parse it to `pandas DataFrame`\n"
   ]
  },
  {
   "cell_type": "markdown",
   "metadata": {},
   "source": [
    "# Prerequisites\n",
    "Before you start make sure you have installed:\n",
    "* [python](https://www.python.org/downloads/) (tested for 3.6.3 version)\n",
    "* python IDE (personally I reccommend [pyCharm](https://www.jetbrains.com/pycharm/))\n",
    "* pip integrated with shell, so that `pip install pandas` will work (in case of problems, which are common, keep calm and refer to this [SO post](https://stackoverflow.com/questions/4750806/how-do-i-install-pip-on-windows)"
   ]
  },
  {
   "cell_type": "markdown",
   "metadata": {},
   "source": [
    "### Modules needed\n",
    "make sure this code will work in your python IDE [how-to](https://www.jetbrains.com/help/pycharm/running-console.html)\n",
    "if any line of the code raises error, try calling `pip install module name` from your console, or [use PyCharm](https://www.jetbrains.com/help/pycharm/installing-uninstalling-and-upgrading-packages.html)"
   ]
  },
  {
   "cell_type": "code",
   "execution_count": 89,
   "metadata": {},
   "outputs": [],
   "source": [
    "import os  # operating system calls\n",
    "import pandas as pd  # coolest data sceince python module - extremely flexible and efficient\n",
    "import zipfile  # unzips zipped zips\n",
    "import matplotlib.pyplot as plt  # plots old school style, if you do not want plot.ly or sth similar\n",
    "import numpy as np  # math operations\n",
    "from shapely.geometry import Point  # shapefile like add-on for pandas\n",
    "import plotly.plotly as py  # plot.ly python wrapper\n",
    "from plotly.graph_objs import Data, Scattermapbox, Marker, Layout, Box  # plotly objects\n",
    "import requests  # to scrap the data from the web\n",
    "import scipy.stats as st  # statistical \n",
    "import seaborn as sns  # statistical fancy tools\n",
    "import warnings  # python runtime warnings\n",
    "import scipy.stats as st  # statistical models\n",
    "from sklearn.metrics.pairwise import pairwise_distances  # the classical mighty machine learning module\n",
    "warnings.filterwarnings('ignore')\n",
    "pd.options.display.float_format = '{:,.0f}'.format"
   ]
  },
  {
   "cell_type": "markdown",
   "metadata": {},
   "source": [
    "### Constants\n",
    "here I store paths, constants, styles, and all the code constants (parameters). I encourage you to use config.json for more complex solutions [SO post](https://stackoverflow.com/questions/19078170/python-how-would-you-save-a-simple-settings-config-file)"
   ]
  },
  {
   "cell_type": "code",
   "execution_count": 3,
   "metadata": {},
   "outputs": [],
   "source": [
    "topsize = 30\n",
    "\n",
    "LOW_WARN = 3\n",
    "HIGH_WARN = 3\n",
    "\n",
    "PLOT_STYLES = dict(\n",
    "    OK={'color': 'green', 'lw': 1, 'linestyle': '-'},\n",
    "    FULL={'color': 'red', 'lw': 2, 'linestyle': ':'},\n",
    "    EMPTY={'color': 'black', 'lw': 2, 'linestyle': ':'},\n",
    "    LOW={'color': 'yellow', 'lw': 1, 'linestyle': '--'},\n",
    "    HIGH={'color': 'yellow', 'lw': 1, 'linestyle': '--'})\n"
   ]
  },
  {
   "cell_type": "markdown",
   "metadata": {},
   "source": [
    "# 1.Data import\n",
    "> Use downloaded data, unzip it, parse to useful data structure\n",
    "\n",
    "We use freely available datasets provided by _citi bike_ available [here](https://www.citibikenyc.com/system-data)\n",
    "in this tutorial we focus on the historical data sets provided in this [amazon bucket](https://s3.amazonaws.com/tripdata/index.html)\n",
    "<br>\n",
    "for stability I copied three selected months (summer 2017) data to the repo [folder](https://github.com/RafalKucharskiPK/DataScience_for_TransportationResearch/tree/master/data)\n",
    "\n",
    "Here we:\n",
    "* walk through the `./data/` folder, \n",
    "* unzip all .zip archives to '.csv',\n",
    "* parse all `.csv.` files to `pandas DataFrame` (`pd.read_csv()`),\n",
    "* index the `DataFrame` by `datatimeindex` (useful for futher time related calculations)\n",
    "* concat several DataFrames to get a single processable data source (`pd.concat`).\n",
    "* delete unused data `del df[col]`\n"
   ]
  },
  {
   "cell_type": "code",
   "execution_count": 5,
   "metadata": {},
   "outputs": [
    {
     "name": "stdout",
     "output_type": "stream",
     "text": [
      "Reading 60MB file of 1,816,498 trips recorded on 201708\n",
      "Reading 57MB file of 1,735,599 trips recorded on 201707\n",
      "Reading 57MB file of 1,731,594 trips recorded on 201706\n"
     ]
    }
   ],
   "source": [
    "trips = list()  # list of pd.dfs to be populated with csv data and concatenated to a single DataFrame\n",
    "plot_x = list()  # data to be plotted in the next cell\n",
    "plot_y = list()\n",
    "\n",
    "for file in os.listdir(\"./data/\"):  # loop over files in the directory\n",
    "    if file.endswith(\".zip\"):  # parse only .zip archives\n",
    "        zip_ref = zipfile.ZipFile(os.path.join(\"./data/\", file), 'r')  # unzip\n",
    "        df = pd.read_csv(zip_ref.extract(zip_ref.filelist[0]))  # parse to pd.DataFrame\n",
    "        df[\"starttime\"] = pd.to_datetime(df[\"starttime\"], format=\"%Y/%m/%d %H:%M:%S\")  # use 'starttime' column as index and parse it to datetime\n",
    "        df.index = df[\"starttime\"]\n",
    "        del df[\"starttime\"]  # now this column can be dropped (it is already an index)\n",
    "        trips.append(df) # add pasred pd.DataFrame to list\n",
    "\n",
    "        plot_x.append(file.split(\"-\")[0])  \n",
    "        plot_y.append(trips[-1].shape[0])\n",
    "        print(\"Reading {}MB file of {:,} trips recorded on {}\"\n",
    "              .format(int(os.path.getsize(os.path.join(\"./data/\", file)) / 1024 / 1024.0), trips[-1].shape[0], file.split(\"-\")[0]))\n",
    "\n",
    "trips = pd.concat(trips)  #merge trheee DataFrames to a sinlge 'table' (DataFrame)\n",
    "\n",
    "# delete unused data\n",
    "del trips['stoptime']\n",
    "del trips['start station name']\n",
    "del trips['end station name']"
   ]
  },
  {
   "cell_type": "code",
   "execution_count": 6,
   "metadata": {},
   "outputs": [
    {
     "data": {
      "image/png": "[encoded data removed]",
      "text/plain": [
       "<matplotlib.figure.Figure at 0x114654d30>"
      ]
     },
     "metadata": {},
     "output_type": "display_data"
    }
   ],
   "source": [
    "plt.bar([i for i, x in enumerate(plot_x)], plot_y)\n",
    "plt.xticks([i for i, x in enumerate(plot_x)], plot_y)\n",
    "plt.ylabel('number of bike rents')\n",
    "plt.ylabel('months')\n",
    "plt.title(\"Number of trips per month\")\n",
    "plt.show()"
   ]
  },
  {
   "cell_type": "markdown",
   "metadata": {},
   "source": [
    "***\n",
    "# 2. Inspect, analyze, view the data\n",
    "> Here we show how to inspect the data, see the rows, columns, execute bacis operations, filter the data."
   ]
  },
  {
   "cell_type": "code",
   "execution_count": 7,
   "metadata": {},
   "outputs": [
    {
     "data": {
      "text/plain": [
       "Index(['tripduration', 'start station id', 'start station latitude',\n",
       "       'start station longitude', 'end station id', 'end station latitude',\n",
       "       'end station longitude', 'bikeid', 'usertype', 'birth year', 'gender'],\n",
       "      dtype='object')"
      ]
     },
     "execution_count": 7,
     "metadata": {},
     "output_type": "execute_result"
    }
   ],
   "source": [
    "trips.columns # columns of the DataFrame"
   ]
  },
  {
   "cell_type": "code",
   "execution_count": 13,
   "metadata": {},
   "outputs": [
    {
     "name": "stdout",
     "output_type": "stream",
     "text": [
      "                     tripduration  start station id  start station latitude  \\\n",
      "starttime                                                                     \n",
      "2017-08-01 00:00:00          2110               470               40.743453   \n",
      "2017-08-01 00:00:10           160               348               40.724910   \n",
      "2017-08-01 00:00:17          1644              3165               40.775794   \n",
      "2017-08-01 00:00:27           323               389               40.710446   \n",
      "2017-08-01 00:00:41           109              3145               40.778627   \n",
      "\n",
      "                     start station longitude  end station id  \\\n",
      "starttime                                                      \n",
      "2017-08-01 00:00:00               -74.000040            3289   \n",
      "2017-08-01 00:00:10               -74.001547             151   \n",
      "2017-08-01 00:00:17               -73.976206            3320   \n",
      "2017-08-01 00:00:27               -73.965251            3073   \n",
      "2017-08-01 00:00:41               -73.957721            3147   \n",
      "\n",
      "                     end station latitude  end station longitude  bikeid  \\\n",
      "starttime                                                                  \n",
      "2017-08-01 00:00:00             40.790179             -73.972889   20954   \n",
      "2017-08-01 00:00:10             40.722104             -73.997249   15164   \n",
      "2017-08-01 00:00:17             40.793393             -73.963556   17540   \n",
      "2017-08-01 00:00:27             40.706913             -73.954417   18705   \n",
      "2017-08-01 00:00:41             40.778012             -73.954071   27975   \n",
      "\n",
      "                       usertype  birth year  gender  \n",
      "starttime                                            \n",
      "2017-08-01 00:00:00  Subscriber      1978.0       2  \n",
      "2017-08-01 00:00:10  Subscriber      1978.0       1  \n",
      "2017-08-01 00:00:17  Subscriber      1962.0       2  \n",
      "2017-08-01 00:00:27  Subscriber      1990.0       1  \n",
      "2017-08-01 00:00:41  Subscriber      1983.0       1  \n"
     ]
    }
   ],
   "source": [
    "print(trips.head()) # brief inspection of first 5 rows of Data"
   ]
  },
  {
   "cell_type": "code",
   "execution_count": 8,
   "metadata": {},
   "outputs": [
    {
     "name": "stdout",
     "output_type": "stream",
     "text": [
      "Mean trip duration is:  1097.52567646\n"
     ]
    }
   ],
   "source": [
    "print(\"Mean trip duration is: \", trips.tripduration.mean())"
   ]
  },
  {
   "cell_type": "code",
   "execution_count": 9,
   "metadata": {},
   "outputs": [
    {
     "name": "stdout",
     "output_type": "stream",
     "text": [
      "Mean trip duration in July is :  1060.14335973\n"
     ]
    }
   ],
   "source": [
    "print(\"Mean trip duration in July is : \", trips.tripduration[trips.index.month==7].mean())"
   ]
  },
  {
   "cell_type": "code",
   "execution_count": 25,
   "metadata": {},
   "outputs": [
    {
     "name": "stdout",
     "output_type": "stream",
     "text": [
      "12418 \t trips started at station 470\n"
     ]
    }
   ],
   "source": [
    "print(len(trips[trips['start station id']==470]), \"\\t trips started at station 470\")"
   ]
  },
  {
   "cell_type": "code",
   "execution_count": 12,
   "metadata": {},
   "outputs": [
    {
     "name": "stdout",
     "output_type": "stream",
     "text": [
      "Top 10 destinations from station 470\n"
     ]
    },
    {
     "data": {
      "text/plain": [
       "end station id\n",
       "3255    445\n",
       "459     415\n",
       "435     385\n",
       "494     297\n",
       "523     294\n",
       "212     264\n",
       "462     233\n",
       "402     218\n",
       "3258    182\n",
       "382     176\n",
       "dtype: int64"
      ]
     },
     "execution_count": 12,
     "metadata": {},
     "output_type": "execute_result"
    }
   ],
   "source": [
    "print(\"Top 10 destinations from station 470\")\n",
    "trips[trips['start station id']==470].groupby('end station id').size().sort_values(ascending=False).head(10)"
   ]
  },
  {
   "cell_type": "code",
   "execution_count": 14,
   "metadata": {},
   "outputs": [
    {
     "data": {
      "text/html": [
       "<div>\n",
       "<style scoped>\n",
       "    .dataframe tbody tr th:only-of-type {\n",
       "        vertical-align: middle;\n",
       "    }\n",
       "\n",
       "    .dataframe tbody tr th {\n",
       "        vertical-align: top;\n",
       "    }\n",
       "\n",
       "    .dataframe thead th {\n",
       "        text-align: right;\n",
       "    }\n",
       "</style>\n",
       "<table border=\"1\" class=\"dataframe\">\n",
       "  <thead>\n",
       "    <tr style=\"text-align: right;\">\n",
       "      <th></th>\n",
       "      <th>tripduration</th>\n",
       "      <th>start station id</th>\n",
       "      <th>start station latitude</th>\n",
       "      <th>start station longitude</th>\n",
       "      <th>end station id</th>\n",
       "      <th>end station latitude</th>\n",
       "      <th>end station longitude</th>\n",
       "      <th>bikeid</th>\n",
       "      <th>birth year</th>\n",
       "      <th>gender</th>\n",
       "    </tr>\n",
       "  </thead>\n",
       "  <tbody>\n",
       "    <tr>\n",
       "      <th>count</th>\n",
       "      <td>5.283691e+06</td>\n",
       "      <td>5.283691e+06</td>\n",
       "      <td>5.283691e+06</td>\n",
       "      <td>5.283691e+06</td>\n",
       "      <td>5.283691e+06</td>\n",
       "      <td>5.283691e+06</td>\n",
       "      <td>5.283691e+06</td>\n",
       "      <td>5.283691e+06</td>\n",
       "      <td>4.637947e+06</td>\n",
       "      <td>5.283691e+06</td>\n",
       "    </tr>\n",
       "    <tr>\n",
       "      <th>mean</th>\n",
       "      <td>1.097526e+03</td>\n",
       "      <td>1.352630e+03</td>\n",
       "      <td>4.073583e+01</td>\n",
       "      <td>-7.398516e+01</td>\n",
       "      <td>1.349570e+03</td>\n",
       "      <td>4.073554e+01</td>\n",
       "      <td>-7.398525e+01</td>\n",
       "      <td>2.324025e+04</td>\n",
       "      <td>1.979415e+03</td>\n",
       "      <td>1.105788e+00</td>\n",
       "    </tr>\n",
       "    <tr>\n",
       "      <th>std</th>\n",
       "      <td>1.500801e+04</td>\n",
       "      <td>1.342407e+03</td>\n",
       "      <td>3.808385e-02</td>\n",
       "      <td>4.869711e-02</td>\n",
       "      <td>1.341921e+03</td>\n",
       "      <td>4.554701e-02</td>\n",
       "      <td>6.666835e-02</td>\n",
       "      <td>5.012161e+03</td>\n",
       "      <td>1.158522e+01</td>\n",
       "      <td>5.887127e-01</td>\n",
       "    </tr>\n",
       "    <tr>\n",
       "      <th>min</th>\n",
       "      <td>6.100000e+01</td>\n",
       "      <td>7.200000e+01</td>\n",
       "      <td>0.000000e+00</td>\n",
       "      <td>-7.402535e+01</td>\n",
       "      <td>7.200000e+01</td>\n",
       "      <td>0.000000e+00</td>\n",
       "      <td>-7.406692e+01</td>\n",
       "      <td>1.452900e+04</td>\n",
       "      <td>1.874000e+03</td>\n",
       "      <td>0.000000e+00</td>\n",
       "    </tr>\n",
       "    <tr>\n",
       "      <th>25%</th>\n",
       "      <td>3.940000e+02</td>\n",
       "      <td>3.590000e+02</td>\n",
       "      <td>4.071755e+01</td>\n",
       "      <td>-7.399725e+01</td>\n",
       "      <td>3.590000e+02</td>\n",
       "      <td>4.071745e+01</td>\n",
       "      <td>-7.399726e+01</td>\n",
       "      <td>1.844300e+04</td>\n",
       "      <td>1.972000e+03</td>\n",
       "      <td>1.000000e+00</td>\n",
       "    </tr>\n",
       "    <tr>\n",
       "      <th>50%</th>\n",
       "      <td>6.690000e+02</td>\n",
       "      <td>4.850000e+02</td>\n",
       "      <td>4.073650e+01</td>\n",
       "      <td>-7.398766e+01</td>\n",
       "      <td>4.840000e+02</td>\n",
       "      <td>4.073649e+01</td>\n",
       "      <td>-7.398783e+01</td>\n",
       "      <td>2.522800e+04</td>\n",
       "      <td>1.982000e+03</td>\n",
       "      <td>1.000000e+00</td>\n",
       "    </tr>\n",
       "    <tr>\n",
       "      <th>75%</th>\n",
       "      <td>1.167000e+03</td>\n",
       "      <td>3.140000e+03</td>\n",
       "      <td>4.075514e+01</td>\n",
       "      <td>-7.397606e+01</td>\n",
       "      <td>3.139000e+03</td>\n",
       "      <td>4.075510e+01</td>\n",
       "      <td>-7.397621e+01</td>\n",
       "      <td>2.778800e+04</td>\n",
       "      <td>1.988000e+03</td>\n",
       "      <td>1.000000e+00</td>\n",
       "    </tr>\n",
       "    <tr>\n",
       "      <th>max</th>\n",
       "      <td>4.509256e+06</td>\n",
       "      <td>3.489000e+03</td>\n",
       "      <td>4.550636e+01</td>\n",
       "      <td>0.000000e+00</td>\n",
       "      <td>3.489000e+03</td>\n",
       "      <td>4.550636e+01</td>\n",
       "      <td>0.000000e+00</td>\n",
       "      <td>3.082700e+04</td>\n",
       "      <td>2.001000e+03</td>\n",
       "      <td>2.000000e+00</td>\n",
       "    </tr>\n",
       "  </tbody>\n",
       "</table>\n",
       "</div>"
      ],
      "text/plain": [
       "       tripduration  start station id  start station latitude  \\\n",
       "count  5.283691e+06      5.283691e+06            5.283691e+06   \n",
       "mean   1.097526e+03      1.352630e+03            4.073583e+01   \n",
       "std    1.500801e+04      1.342407e+03            3.808385e-02   \n",
       "min    6.100000e+01      7.200000e+01            0.000000e+00   \n",
       "25%    3.940000e+02      3.590000e+02            4.071755e+01   \n",
       "50%    6.690000e+02      4.850000e+02            4.073650e+01   \n",
       "75%    1.167000e+03      3.140000e+03            4.075514e+01   \n",
       "max    4.509256e+06      3.489000e+03            4.550636e+01   \n",
       "\n",
       "       start station longitude  end station id  end station latitude  \\\n",
       "count             5.283691e+06    5.283691e+06          5.283691e+06   \n",
       "mean             -7.398516e+01    1.349570e+03          4.073554e+01   \n",
       "std               4.869711e-02    1.341921e+03          4.554701e-02   \n",
       "min              -7.402535e+01    7.200000e+01          0.000000e+00   \n",
       "25%              -7.399725e+01    3.590000e+02          4.071745e+01   \n",
       "50%              -7.398766e+01    4.840000e+02          4.073649e+01   \n",
       "75%              -7.397606e+01    3.139000e+03          4.075510e+01   \n",
       "max               0.000000e+00    3.489000e+03          4.550636e+01   \n",
       "\n",
       "       end station longitude        bikeid    birth year        gender  \n",
       "count           5.283691e+06  5.283691e+06  4.637947e+06  5.283691e+06  \n",
       "mean           -7.398525e+01  2.324025e+04  1.979415e+03  1.105788e+00  \n",
       "std             6.666835e-02  5.012161e+03  1.158522e+01  5.887127e-01  \n",
       "min            -7.406692e+01  1.452900e+04  1.874000e+03  0.000000e+00  \n",
       "25%            -7.399726e+01  1.844300e+04  1.972000e+03  1.000000e+00  \n",
       "50%            -7.398783e+01  2.522800e+04  1.982000e+03  1.000000e+00  \n",
       "75%            -7.397621e+01  2.778800e+04  1.988000e+03  1.000000e+00  \n",
       "max             0.000000e+00  3.082700e+04  2.001000e+03  2.000000e+00  "
      ]
     },
     "execution_count": 14,
     "metadata": {},
     "output_type": "execute_result"
    }
   ],
   "source": [
    "trips.describe()  # general statistical description of data in DataFrame columns"
   ]
  },
  {
   "cell_type": "code",
   "execution_count": 22,
   "metadata": {},
   "outputs": [
    {
     "name": "stdout",
     "output_type": "stream",
     "text": [
      "Between 2017-06-01 and 2017-06-10 there were 578562 trips\n"
     ]
    }
   ],
   "source": [
    "filtered_trips = trips.loc[\"2017-06-01\":\"2017-06-10\"]  # filter trips to a given date range\n",
    "print(\"Between {} and {} there were {} trips\".format(\"2017-06-01\",\"2017-06-10\",len(filtered_trips)))"
   ]
  },
  {
   "cell_type": "markdown",
   "metadata": {},
   "source": [
    "# 3. Process the data\n",
    "> Here we use the data from `trips DataFrame` to create the tabel of bicycle stations. We plot its loads (number of trips per station). This is far from optimal, the purpose to explain with illustrative example, not to optimize the code.\n",
    "\n",
    "Specifically here we:\n",
    "* use `pd.df[col].unique()` to get unique origin and destination stations.\n",
    "* merge the two (union on two sets) with `np.union1d` \n",
    "* iterate over stations and use mean of its longtitude and latitude \n",
    "* use number of origin trips as a futher scale\n",
    "* use `shapely` to store lonlat Point - for further use in GIS applications."
   ]
  },
  {
   "cell_type": "code",
   "execution_count": 29,
   "metadata": {},
   "outputs": [],
   "source": [
    "st = pd.DataFrame(np.union1d(trips['start station id'].unique(),\n",
    "                             trips['end station id'].unique()),\n",
    "                  columns=[\"station_id\"])\n",
    "locs = list()\n",
    "sizes = list()\n",
    "for index, row in st.iterrows():\n",
    "    locs.append(\n",
    "        [trips[trips['start station id'] == row[\"station_id\"]]['start station longitude'].mean(),\n",
    "         trips[trips['start station id'] == row[\"station_id\"]]['start station latitude'].mean()]\n",
    "    )\n",
    "    sizes.append(len(trips[trips['start station id'] == row[\"station_id\"]]))\n",
    "                 \n",
    "st['pos'] = [Point(loc[0], loc[1]) for loc in locs]\n",
    "st['lon'] = [loc[0] for loc in locs]\n",
    "st['lat'] = [loc[1] for loc in locs]\n",
    "st['orig_trips'] = sizes\n",
    "stations = st.set_index(\"station_id\")"
   ]
  },
  {
   "cell_type": "markdown",
   "metadata": {},
   "source": [
    "Now we will plot the data on the map using `plotly`\n",
    "***"
   ]
  },
  {
   "cell_type": "code",
   "execution_count": 51,
   "metadata": {},
   "outputs": [
    {
     "data": {
      "text/html": [
       "<iframe id=\"igraph\" scrolling=\"no\" style=\"border:none;\" seamless=\"seamless\" src=\"https://plot.ly/~rkucharski/18.embed\" height=\"525px\" width=\"100%\"></iframe>"
      ],
      "text/plain": [
       "<plotly.tools.PlotlyDisplay object>"
      ]
     },
     "execution_count": 51,
     "metadata": {},
     "output_type": "execute_result"
    }
   ],
   "source": [
    "import plotly \n",
    "plotly.tools.set_config_file(world_readable=True,\n",
    "                                sharing='public')\n",
    "plotly.tools.set_credentials_file(username='rkucharski',\n",
    "                                     api_key=\"w1LROCX3bYA8amfuLA4g\")\n",
    "data = [Scattermapbox(\n",
    "            lat=stations.lat, lon=stations.lon,       \n",
    "            mode='markers',\n",
    "            marker=Marker(\n",
    "                size= 30* (stations.orig_trips / stations.orig_trips.max()),\n",
    "                opacity=0.7\n",
    "            ),\n",
    "            text=\"Station: \",\n",
    "            hoverinfo='text'\n",
    "        )]\n",
    "    \n",
    "layout = Layout(\n",
    "    title='Stations of the system with their capacities',\n",
    "    autosize=True,\n",
    "    hovermode='closest',\n",
    "    showlegend=False,\n",
    "    mapbox=dict(\n",
    "            bearing=0,\n",
    "            center=dict(\n",
    "                lat=40.75,\n",
    "                lon=-73.95\n",
    "            ),\n",
    "            pitch=0,\n",
    "            zoom=12,\n",
    "            style='light'\n",
    "        ),\n",
    "    )\n",
    "fig = dict(data=data, layout=layout)\n",
    "py.iplot(fig, filename='CITI stations')"
   ]
  },
  {
   "cell_type": "markdown",
   "metadata": {},
   "source": [
    "# 4. Get Real-time data\n",
    "> Here we use the real time online source of data from https://www.citibikenyc.com/system-data, stored in json-like data online. We process the station_status to see how many bicycles and slots is there available (now)."
   ]
  },
  {
   "cell_type": "code",
   "execution_count": 52,
   "metadata": {},
   "outputs": [],
   "source": [
    "json = requests.get(\"https://gbfs.citibikenyc.com/gbfs/en/station_status.json\").json()\n",
    "data = json['data']['stations']\n",
    "station_status = pd.DataFrame(data)\n",
    "station_status = station_status.set_index(\"station_id\")"
   ]
  },
  {
   "cell_type": "code",
   "execution_count": 128,
   "metadata": {},
   "outputs": [
    {
     "name": "stdout",
     "output_type": "stream",
     "text": [
      "Count empty stations\n"
     ]
    },
    {
     "data": {
      "text/plain": [
       "41"
      ]
     },
     "execution_count": 128,
     "metadata": {},
     "output_type": "execute_result"
    }
   ],
   "source": [
    "print(\"Count empty stations\")\n",
    "station_status[station_status.num_bikes_available == 0].shape[0]"
   ]
  },
  {
   "cell_type": "code",
   "execution_count": 54,
   "metadata": {},
   "outputs": [
    {
     "name": "stdout",
     "output_type": "stream",
     "text": [
      "10 full stations\n"
     ]
    },
    {
     "data": {
      "text/plain": [
       "station_id\n",
       "82      0\n",
       "291     0\n",
       "345     0\n",
       "385     0\n",
       "408     0\n",
       "449     0\n",
       "530     0\n",
       "545     0\n",
       "3171    0\n",
       "3317    0\n",
       "Name: num_docks_available, dtype: int64"
      ]
     },
     "execution_count": 54,
     "metadata": {},
     "output_type": "execute_result"
    }
   ],
   "source": [
    "print(\"10 full stations\")\n",
    "station_status[station_status.num_docks_available==0].num_docks_available.nsmallest(10)"
   ]
  },
  {
   "cell_type": "markdown",
   "metadata": {},
   "source": [
    "# 5. Pivot the data to retrieve matrices (OD matrix, travel time matrix)\n",
    "> Here we use `pandas.groupby` with two group levels to get the od matrix. Then we normalize the data to get splitting rates/probability/shares/..."
   ]
  },
  {
   "cell_type": "code",
   "execution_count": 58,
   "metadata": {},
   "outputs": [],
   "source": [
    "matrix = trips.groupby(by=['start station id', 'end station id']) # group with two indexes\n",
    "OD = matrix.size()  # make trip matrix\n",
    "pd.options.display.float_format = '{:,.0f}'.format\n",
    "OD = OD.unstack().fillna(0) # fill na with zeros, unstack the column matrix to classic view"
   ]
  },
  {
   "cell_type": "code",
   "execution_count": 63,
   "metadata": {},
   "outputs": [
    {
     "data": {
      "text/html": [
       "<div>\n",
       "<style scoped>\n",
       "    .dataframe tbody tr th:only-of-type {\n",
       "        vertical-align: middle;\n",
       "    }\n",
       "\n",
       "    .dataframe tbody tr th {\n",
       "        vertical-align: top;\n",
       "    }\n",
       "\n",
       "    .dataframe thead th {\n",
       "        text-align: right;\n",
       "    }\n",
       "</style>\n",
       "<table border=\"1\" class=\"dataframe\">\n",
       "  <thead>\n",
       "    <tr style=\"text-align: right;\">\n",
       "      <th>end station id</th>\n",
       "      <th>72</th>\n",
       "      <th>79</th>\n",
       "      <th>82</th>\n",
       "      <th>83</th>\n",
       "      <th>116</th>\n",
       "      <th>119</th>\n",
       "      <th>120</th>\n",
       "      <th>127</th>\n",
       "      <th>128</th>\n",
       "      <th>143</th>\n",
       "      <th>...</th>\n",
       "      <th>3472</th>\n",
       "      <th>3474</th>\n",
       "      <th>3476</th>\n",
       "      <th>3477</th>\n",
       "      <th>3478</th>\n",
       "      <th>3479</th>\n",
       "      <th>3481</th>\n",
       "      <th>3485</th>\n",
       "      <th>3488</th>\n",
       "      <th>3489</th>\n",
       "    </tr>\n",
       "    <tr>\n",
       "      <th>start station id</th>\n",
       "      <th></th>\n",
       "      <th></th>\n",
       "      <th></th>\n",
       "      <th></th>\n",
       "      <th></th>\n",
       "      <th></th>\n",
       "      <th></th>\n",
       "      <th></th>\n",
       "      <th></th>\n",
       "      <th></th>\n",
       "      <th></th>\n",
       "      <th></th>\n",
       "      <th></th>\n",
       "      <th></th>\n",
       "      <th></th>\n",
       "      <th></th>\n",
       "      <th></th>\n",
       "      <th></th>\n",
       "      <th></th>\n",
       "      <th></th>\n",
       "      <th></th>\n",
       "    </tr>\n",
       "  </thead>\n",
       "  <tbody>\n",
       "    <tr>\n",
       "      <th>72</th>\n",
       "      <td>330</td>\n",
       "      <td>12</td>\n",
       "      <td>2</td>\n",
       "      <td>0</td>\n",
       "      <td>17</td>\n",
       "      <td>0</td>\n",
       "      <td>0</td>\n",
       "      <td>69</td>\n",
       "      <td>17</td>\n",
       "      <td>2</td>\n",
       "      <td>...</td>\n",
       "      <td>52</td>\n",
       "      <td>11</td>\n",
       "      <td>0</td>\n",
       "      <td>0</td>\n",
       "      <td>0</td>\n",
       "      <td>0</td>\n",
       "      <td>0</td>\n",
       "      <td>0</td>\n",
       "      <td>0</td>\n",
       "      <td>0</td>\n",
       "    </tr>\n",
       "    <tr>\n",
       "      <th>79</th>\n",
       "      <td>32</td>\n",
       "      <td>122</td>\n",
       "      <td>4</td>\n",
       "      <td>3</td>\n",
       "      <td>12</td>\n",
       "      <td>0</td>\n",
       "      <td>1</td>\n",
       "      <td>90</td>\n",
       "      <td>69</td>\n",
       "      <td>0</td>\n",
       "      <td>...</td>\n",
       "      <td>13</td>\n",
       "      <td>28</td>\n",
       "      <td>1</td>\n",
       "      <td>1</td>\n",
       "      <td>0</td>\n",
       "      <td>0</td>\n",
       "      <td>0</td>\n",
       "      <td>0</td>\n",
       "      <td>0</td>\n",
       "      <td>0</td>\n",
       "    </tr>\n",
       "    <tr>\n",
       "      <th>82</th>\n",
       "      <td>0</td>\n",
       "      <td>3</td>\n",
       "      <td>137</td>\n",
       "      <td>0</td>\n",
       "      <td>1</td>\n",
       "      <td>4</td>\n",
       "      <td>0</td>\n",
       "      <td>1</td>\n",
       "      <td>34</td>\n",
       "      <td>0</td>\n",
       "      <td>...</td>\n",
       "      <td>4</td>\n",
       "      <td>3</td>\n",
       "      <td>0</td>\n",
       "      <td>0</td>\n",
       "      <td>0</td>\n",
       "      <td>0</td>\n",
       "      <td>0</td>\n",
       "      <td>0</td>\n",
       "      <td>0</td>\n",
       "      <td>0</td>\n",
       "    </tr>\n",
       "    <tr>\n",
       "      <th>83</th>\n",
       "      <td>0</td>\n",
       "      <td>1</td>\n",
       "      <td>0</td>\n",
       "      <td>85</td>\n",
       "      <td>0</td>\n",
       "      <td>1</td>\n",
       "      <td>48</td>\n",
       "      <td>2</td>\n",
       "      <td>0</td>\n",
       "      <td>19</td>\n",
       "      <td>...</td>\n",
       "      <td>0</td>\n",
       "      <td>1</td>\n",
       "      <td>0</td>\n",
       "      <td>1</td>\n",
       "      <td>5</td>\n",
       "      <td>0</td>\n",
       "      <td>0</td>\n",
       "      <td>0</td>\n",
       "      <td>0</td>\n",
       "      <td>0</td>\n",
       "    </tr>\n",
       "    <tr>\n",
       "      <th>116</th>\n",
       "      <td>40</td>\n",
       "      <td>22</td>\n",
       "      <td>6</td>\n",
       "      <td>0</td>\n",
       "      <td>178</td>\n",
       "      <td>0</td>\n",
       "      <td>1</td>\n",
       "      <td>155</td>\n",
       "      <td>54</td>\n",
       "      <td>0</td>\n",
       "      <td>...</td>\n",
       "      <td>35</td>\n",
       "      <td>9</td>\n",
       "      <td>1</td>\n",
       "      <td>0</td>\n",
       "      <td>0</td>\n",
       "      <td>0</td>\n",
       "      <td>0</td>\n",
       "      <td>0</td>\n",
       "      <td>0</td>\n",
       "      <td>0</td>\n",
       "    </tr>\n",
       "  </tbody>\n",
       "</table>\n",
       "<p>5 rows × 656 columns</p>\n",
       "</div>"
      ],
      "text/plain": [
       "end station id    72    79    82    83    116   119   120   127   128   143   \\\n",
       "start station id                                                               \n",
       "72                 330    12     2     0    17     0     0    69    17     2   \n",
       "79                  32   122     4     3    12     0     1    90    69     0   \n",
       "82                   0     3   137     0     1     4     0     1    34     0   \n",
       "83                   0     1     0    85     0     1    48     2     0    19   \n",
       "116                 40    22     6     0   178     0     1   155    54     0   \n",
       "\n",
       "end station id    ...   3472  3474  3476  3477  3478  3479  3481  3485  3488  \\\n",
       "start station id  ...                                                          \n",
       "72                ...     52    11     0     0     0     0     0     0     0   \n",
       "79                ...     13    28     1     1     0     0     0     0     0   \n",
       "82                ...      4     3     0     0     0     0     0     0     0   \n",
       "83                ...      0     1     0     1     5     0     0     0     0   \n",
       "116               ...     35     9     1     0     0     0     0     0     0   \n",
       "\n",
       "end station id    3489  \n",
       "start station id        \n",
       "72                   0  \n",
       "79                   0  \n",
       "82                   0  \n",
       "83                   0  \n",
       "116                  0  \n",
       "\n",
       "[5 rows x 656 columns]"
      ]
     },
     "execution_count": 63,
     "metadata": {},
     "output_type": "execute_result"
    }
   ],
   "source": [
    "OD.head() # show me first 5 rows of the matrix"
   ]
  },
  {
   "cell_type": "code",
   "execution_count": 66,
   "metadata": {},
   "outputs": [
    {
     "data": {
      "text/html": [
       "<div>\n",
       "<style scoped>\n",
       "    .dataframe tbody tr th:only-of-type {\n",
       "        vertical-align: middle;\n",
       "    }\n",
       "\n",
       "    .dataframe tbody tr th {\n",
       "        vertical-align: top;\n",
       "    }\n",
       "\n",
       "    .dataframe thead th {\n",
       "        text-align: right;\n",
       "    }\n",
       "</style>\n",
       "<table border=\"1\" class=\"dataframe\">\n",
       "  <thead>\n",
       "    <tr style=\"text-align: right;\">\n",
       "      <th>end station id</th>\n",
       "      <th>72</th>\n",
       "      <th>79</th>\n",
       "      <th>82</th>\n",
       "      <th>83</th>\n",
       "      <th>116</th>\n",
       "      <th>119</th>\n",
       "      <th>120</th>\n",
       "      <th>127</th>\n",
       "      <th>128</th>\n",
       "      <th>143</th>\n",
       "      <th>...</th>\n",
       "      <th>3472</th>\n",
       "      <th>3474</th>\n",
       "      <th>3476</th>\n",
       "      <th>3477</th>\n",
       "      <th>3478</th>\n",
       "      <th>3479</th>\n",
       "      <th>3481</th>\n",
       "      <th>3485</th>\n",
       "      <th>3488</th>\n",
       "      <th>3489</th>\n",
       "    </tr>\n",
       "    <tr>\n",
       "      <th>start station id</th>\n",
       "      <th></th>\n",
       "      <th></th>\n",
       "      <th></th>\n",
       "      <th></th>\n",
       "      <th></th>\n",
       "      <th></th>\n",
       "      <th></th>\n",
       "      <th></th>\n",
       "      <th></th>\n",
       "      <th></th>\n",
       "      <th></th>\n",
       "      <th></th>\n",
       "      <th></th>\n",
       "      <th></th>\n",
       "      <th></th>\n",
       "      <th></th>\n",
       "      <th></th>\n",
       "      <th></th>\n",
       "      <th></th>\n",
       "      <th></th>\n",
       "      <th></th>\n",
       "    </tr>\n",
       "  </thead>\n",
       "  <tbody>\n",
       "    <tr>\n",
       "      <th>72</th>\n",
       "      <td>0.026</td>\n",
       "      <td>0.001</td>\n",
       "      <td>0.000</td>\n",
       "      <td>0.000</td>\n",
       "      <td>0.001</td>\n",
       "      <td>0.000</td>\n",
       "      <td>0.000</td>\n",
       "      <td>0.005</td>\n",
       "      <td>0.001</td>\n",
       "      <td>0.000</td>\n",
       "      <td>...</td>\n",
       "      <td>0.004</td>\n",
       "      <td>0.001</td>\n",
       "      <td>0.000</td>\n",
       "      <td>0.000</td>\n",
       "      <td>0.000</td>\n",
       "      <td>0.000</td>\n",
       "      <td>0.000</td>\n",
       "      <td>0.000</td>\n",
       "      <td>0.000</td>\n",
       "      <td>0.000</td>\n",
       "    </tr>\n",
       "    <tr>\n",
       "      <th>79</th>\n",
       "      <td>0.004</td>\n",
       "      <td>0.014</td>\n",
       "      <td>0.000</td>\n",
       "      <td>0.000</td>\n",
       "      <td>0.001</td>\n",
       "      <td>0.000</td>\n",
       "      <td>0.000</td>\n",
       "      <td>0.010</td>\n",
       "      <td>0.008</td>\n",
       "      <td>0.000</td>\n",
       "      <td>...</td>\n",
       "      <td>0.001</td>\n",
       "      <td>0.003</td>\n",
       "      <td>0.000</td>\n",
       "      <td>0.000</td>\n",
       "      <td>0.000</td>\n",
       "      <td>0.000</td>\n",
       "      <td>0.000</td>\n",
       "      <td>0.000</td>\n",
       "      <td>0.000</td>\n",
       "      <td>0.000</td>\n",
       "    </tr>\n",
       "    <tr>\n",
       "      <th>82</th>\n",
       "      <td>0.000</td>\n",
       "      <td>0.001</td>\n",
       "      <td>0.034</td>\n",
       "      <td>0.000</td>\n",
       "      <td>0.000</td>\n",
       "      <td>0.001</td>\n",
       "      <td>0.000</td>\n",
       "      <td>0.000</td>\n",
       "      <td>0.008</td>\n",
       "      <td>0.000</td>\n",
       "      <td>...</td>\n",
       "      <td>0.001</td>\n",
       "      <td>0.001</td>\n",
       "      <td>0.000</td>\n",
       "      <td>0.000</td>\n",
       "      <td>0.000</td>\n",
       "      <td>0.000</td>\n",
       "      <td>0.000</td>\n",
       "      <td>0.000</td>\n",
       "      <td>0.000</td>\n",
       "      <td>0.000</td>\n",
       "    </tr>\n",
       "    <tr>\n",
       "      <th>83</th>\n",
       "      <td>0.000</td>\n",
       "      <td>0.000</td>\n",
       "      <td>0.000</td>\n",
       "      <td>0.017</td>\n",
       "      <td>0.000</td>\n",
       "      <td>0.000</td>\n",
       "      <td>0.010</td>\n",
       "      <td>0.000</td>\n",
       "      <td>0.000</td>\n",
       "      <td>0.004</td>\n",
       "      <td>...</td>\n",
       "      <td>0.000</td>\n",
       "      <td>0.000</td>\n",
       "      <td>0.000</td>\n",
       "      <td>0.000</td>\n",
       "      <td>0.001</td>\n",
       "      <td>0.000</td>\n",
       "      <td>0.000</td>\n",
       "      <td>0.000</td>\n",
       "      <td>0.000</td>\n",
       "      <td>0.000</td>\n",
       "    </tr>\n",
       "    <tr>\n",
       "      <th>116</th>\n",
       "      <td>0.003</td>\n",
       "      <td>0.002</td>\n",
       "      <td>0.000</td>\n",
       "      <td>0.000</td>\n",
       "      <td>0.014</td>\n",
       "      <td>0.000</td>\n",
       "      <td>0.000</td>\n",
       "      <td>0.012</td>\n",
       "      <td>0.004</td>\n",
       "      <td>0.000</td>\n",
       "      <td>...</td>\n",
       "      <td>0.003</td>\n",
       "      <td>0.001</td>\n",
       "      <td>0.000</td>\n",
       "      <td>0.000</td>\n",
       "      <td>0.000</td>\n",
       "      <td>0.000</td>\n",
       "      <td>0.000</td>\n",
       "      <td>0.000</td>\n",
       "      <td>0.000</td>\n",
       "      <td>0.000</td>\n",
       "    </tr>\n",
       "  </tbody>\n",
       "</table>\n",
       "<p>5 rows × 656 columns</p>\n",
       "</div>"
      ],
      "text/plain": [
       "end station id    72    79    82    83    116   119   120   127   128   143   \\\n",
       "start station id                                                               \n",
       "72               0.026 0.001 0.000 0.000 0.001 0.000 0.000 0.005 0.001 0.000   \n",
       "79               0.004 0.014 0.000 0.000 0.001 0.000 0.000 0.010 0.008 0.000   \n",
       "82               0.000 0.001 0.034 0.000 0.000 0.001 0.000 0.000 0.008 0.000   \n",
       "83               0.000 0.000 0.000 0.017 0.000 0.000 0.010 0.000 0.000 0.004   \n",
       "116              0.003 0.002 0.000 0.000 0.014 0.000 0.000 0.012 0.004 0.000   \n",
       "\n",
       "end station id    ...   3472  3474  3476  3477  3478  3479  3481  3485  3488  \\\n",
       "start station id  ...                                                          \n",
       "72                ...  0.004 0.001 0.000 0.000 0.000 0.000 0.000 0.000 0.000   \n",
       "79                ...  0.001 0.003 0.000 0.000 0.000 0.000 0.000 0.000 0.000   \n",
       "82                ...  0.001 0.001 0.000 0.000 0.000 0.000 0.000 0.000 0.000   \n",
       "83                ...  0.000 0.000 0.000 0.000 0.001 0.000 0.000 0.000 0.000   \n",
       "116               ...  0.003 0.001 0.000 0.000 0.000 0.000 0.000 0.000 0.000   \n",
       "\n",
       "end station id    3489  \n",
       "start station id        \n",
       "72               0.000  \n",
       "79               0.000  \n",
       "82               0.000  \n",
       "83               0.000  \n",
       "116              0.000  \n",
       "\n",
       "[5 rows x 656 columns]"
      ]
     },
     "execution_count": 66,
     "metadata": {},
     "output_type": "execute_result"
    }
   ],
   "source": [
    "relative_OD = matrix.size().groupby(level=0).apply(lambda x: x / float(x.sum()))\n",
    "relative_OD = relative_OD.unstack().fillna(0)\n",
    "pd.options.display.float_format = '{:,.3f}'.format\n",
    "relative_OD.head()"
   ]
  },
  {
   "cell_type": "code",
   "execution_count": 79,
   "metadata": {},
   "outputs": [
    {
     "data": {
      "image/png": "[encoded data removed]",
      "text/plain": [
       "<matplotlib.figure.Figure at 0x126f142e8>"
      ]
     },
     "metadata": {},
     "output_type": "display_data"
    }
   ],
   "source": [
    "cmap = sns.cubehelix_palette(as_cmap=True, light=.9)\n",
    "cmap.set_under(\"1.1\")\n",
    "df_mtx = OD.as_matrix()\n",
    "cmap.set_under(\".5\")\n",
    "sns.heatmap(df_mtx, cmap= cmap)\n",
    "plt.title(\"Number of trips between stations - heatmap (the lighter the more trips\")\n",
    "plt.show()"
   ]
  },
  {
   "cell_type": "markdown",
   "metadata": {},
   "source": [
    "## 6. Statistical description of retrieved data \n",
    "> Here we use Travel time distribution for a given OD pair and plot the histogram."
   ]
  },
  {
   "cell_type": "code",
   "execution_count": 88,
   "metadata": {},
   "outputs": [
    {
     "data": {
      "image/png": "[encoded data removed]",
      "text/plain": [
       "<matplotlib.figure.Figure at 0x11882f240>"
      ]
     },
     "metadata": {},
     "output_type": "display_data"
    }
   ],
   "source": [
    "matrix = trips.groupby(by=['start station id', 'end station id'])  # pivot the trips to retrieve the matrix\n",
    "durations = matrix.get_group((127, 116)).tripduration  # access a single cell of the matrix\n",
    "durations.hist()\n",
    "durations = durations[durations < durations.quantile(0.95)]  # filter below the given percentile\n",
    "durations.hist()\n",
    "\n",
    "plt.title(\"Travel time distribution between station 127 and 116. Filtered to .95 percentile and not filtered.\")\n",
    "plt.show()"
   ]
  },
  {
   "cell_type": "markdown",
   "metadata": {},
   "source": [
    "## 7. Distribution fitting\n",
    "> Here we fit the observed distribution of travel times. We use scipy and a few fundamental distributions. We try to find the one with the lowes sse error."
   ]
  },
  {
   "cell_type": "code",
   "execution_count": 112,
   "metadata": {},
   "outputs": [
    {
     "name": "stdout",
     "output_type": "stream",
     "text": [
      "norm\tsse:0.0047132\t loc: 380.8\t scale: 380.8\n",
      "logno\tsse:0.0163632\t loc: 229.0\t scale: 229.0\n",
      "gamma\tsse:0.0037867\t loc: 155.7\t scale: 155.7\n",
      "rayle\tsse:0.0041677\t loc: 221.9\t scale: 221.9\n",
      "\n",
      "best \t: \t gamma\n"
     ]
    },
    {
     "data": {
      "image/png": "[encoded data removed]",
      "text/plain": [
       "<matplotlib.figure.Figure at 0x11dc96630>"
      ]
     },
     "metadata": {},
     "output_type": "display_data"
    }
   ],
   "source": [
    "data = durations.as_matrix()  # we use the duration and parse it to numpy\n",
    "y, x = np.histogram(data, bins=25, density=True)  # this is the data from the histogram that we will be fitting\n",
    "x = (x + np.roll(x, -1))[:-1] / 2.0  # we roll the bins and use middle of each bein as the 'x'\n",
    "\n",
    "distributions = [st.norm, st.lognorm, st.gamma, st.rayleigh]  # four selected distributions to fit\n",
    "\n",
    "best_sse = np.inf  # ref best value to be overwritten\n",
    "\n",
    "plt.plot(x, y, lw=1, label = \"empirical\", linestyle=\"-\")  # set the mapltolib layout\n",
    "for distribution in distributions:\n",
    "\n",
    "    params = distribution.fit(data)  # do the fitting (assume uniform distribution of x in the data)\n",
    "\n",
    "    arg = params[:-2]  # other parameters of the distribution (if any)\n",
    "    loc = params[-2]  # location parameter of the distribution\n",
    "    scale = params[-1]  # scale parameter of the distribution\n",
    "    pdf = distribution.pdf(x, loc=loc, scale=scale, *arg) # reproduce the pdf\n",
    "    sse = np.sqrt(np.sum(np.power(y - pdf, 2.0)))  # calulate the error\n",
    "    print(distribution.name[:5] + \"\\tsse:\" + '%.7f' % sse + \"\\t loc: \" + '%.1f' % loc + \"\\t scale: \" + '%.1f' % loc)\n",
    "    plt.plot(x, pdf, label = distribution.name) # plot the fitted distribution.\n",
    "\n",
    "    if best_sse > sse > 0:  # store this solution if best\n",
    "        best_distribution = distribution\n",
    "        best_params = params\n",
    "        best_sse = sse\n",
    "\n",
    "print(\"\\nbest \\t: \\t \" + best_distribution.name)\n",
    "best_pdf = best_distribution.pdf(x, loc=best_params[-2], scale=best_params[-1], *best_params[:-2])\n",
    "plt.plot(x, best_pdf, lw=1, linestyle =\":\", color='red', label = 'best')\n",
    "plt.title(\"Travel time distribution between station 127 and 116 and distribution fit\")\n",
    "plt.legend()\n",
    "plt.show()"
   ]
  },
  {
   "cell_type": "markdown",
   "metadata": {},
   "source": [
    "## 8. Data syntesis\n",
    "> Here we aggregate the trips by day and provide basic statistics of a day. Usin goupby and pivot on the trips dataframe"
   ]
  },
  {
   "cell_type": "code",
   "execution_count": 113,
   "metadata": {},
   "outputs": [],
   "source": [
    "hours = trips['bikeid'].groupby(by=[trips.index.date, trips.index.hour]).count()  # total trips per day,  hour\n",
    "hours = hours.reset_index()  # flatten the multiindex pandas data frame\n",
    "hours.columns = [\"date\", \"hour\", \"trips\"]  # make understandable index names\n",
    "days = hours.pivot(index=\"date\", columns='hour', values='trips')  # use hours as columns (fields)\n",
    "days['totals'] = trips['bikeid'].groupby(by=[trips.index.date]).count()  # add totals\n",
    "days.index = pd.to_datetime(days.index)\n",
    "days[\"weekday\"] = days.index.dayofweek"
   ]
  },
  {
   "cell_type": "code",
   "execution_count": 114,
   "metadata": {},
   "outputs": [
    {
     "data": {
      "image/png": "[encoded data removed]",
      "text/plain": [
       "<matplotlib.figure.Figure at 0x11db745c0>"
      ]
     },
     "metadata": {},
     "output_type": "display_data"
    }
   ],
   "source": [
    "days[days.weekday == 3][[7, 8, 9, 10]].plot()\n",
    "plt.title(\"Number of trips on Wensday0\")\n",
    "plt.show()"
   ]
  },
  {
   "cell_type": "code",
   "execution_count": 121,
   "metadata": {},
   "outputs": [
    {
     "data": {
      "image/png": "[encoded data removed]",
      "text/plain": [
       "<matplotlib.figure.Figure at 0x106638b70>"
      ]
     },
     "metadata": {},
     "output_type": "display_data"
    }
   ],
   "source": [
    "days[list(range(1, 24))].sum().plot()\n",
    "plt.title(\"Temporal profile of trips\")\n",
    "plt.show()"
   ]
  },
  {
   "cell_type": "code",
   "execution_count": 120,
   "metadata": {},
   "outputs": [
    {
     "data": {
      "image/png": "[encoded data removed]",
      "text/plain": [
       "<matplotlib.figure.Figure at 0x11d9b2668>"
      ]
     },
     "metadata": {},
     "output_type": "display_data"
    }
   ],
   "source": [
    "for i in range(6):\n",
    "    days[list(range(1, 24))][days.index.weekday == i].sum().plot()\n",
    "\n",
    "plt.title(\"Temporal profile of trips on a days of week\")\n",
    "plt.show()"
   ]
  },
  {
   "cell_type": "markdown",
   "metadata": {},
   "source": [
    "## 9. Station loads\n",
    "> Here we synthesize the station rentals and drops and visualize the results"
   ]
  },
  {
   "cell_type": "code",
   "execution_count": 123,
   "metadata": {},
   "outputs": [],
   "source": [
    "agg = \"5min\"  # time window to aggregate the data\n",
    "date_from=\"2017-08-01\"  # visualized day\n",
    "_trips = trips.loc[date_from]\n",
    "# this table is:\n",
    "# time as index (row),\n",
    "# start_station_id in columns,\n",
    "# bikeid when bike is rented from station (col) at time(row),\n",
    "# NaN otherwise\n",
    "rentals = _trips.pivot_table(index=_trips.index, columns='start station id', values='bikeid')\n",
    "# now we make it to boolean (1 for rentals, and 0 for all NaN's)\n",
    "# we resample it for 5min (param) intervals and do the cumulative sum\n",
    "rentals = rentals.notna().resample(agg).sum().cumsum().ffill()\n",
    "# the same with dropsin\n",
    "# we need the drop timestamp\n",
    "_trips = _trips.drop(_trips[_trips.tripduration > 7200].index)\n",
    "_trips = _trips.assign(drop_time=pd.Series(_trips.index + pd.to_timedelta(_trips.tripduration, unit='s')).values)\n",
    "\n",
    "drops = _trips.pivot_table(index=_trips.drop_time, columns='end station id', values='bikeid')\n",
    "drops = drops.notna().resample(agg).sum().cumsum().ffill().bfill()\n",
    "\n",
    "multiindex = {\"rentals\": rentals, \"drops\": drops}  # make data for multilevel column index\n",
    "balance = pd.concat(multiindex.values(), axis=1, keys=multiindex.keys())  # join two tables on columns (outer)\n",
    "balance.rentals = balance.rentals.ffill()  # fill intervals with no rents/drops with 0\n",
    "balance.drops = balance.drops.bfill()  # fill intervals with no rents/drops with 0\n",
    "balance.columns = balance.columns.swaplevel()  # swap the levels of multilevel index (more useful)\n"
   ]
  },
  {
   "cell_type": "markdown",
   "metadata": {},
   "source": [
    "#### Describe station loads"
   ]
  },
  {
   "cell_type": "code",
   "execution_count": 131,
   "metadata": {},
   "outputs": [],
   "source": [
    "initial_loads = station_status.num_bikes_available\n",
    "capacities = station_status.num_bikes_available+station_status.num_docks_available\n",
    "for station_id in set(balance.columns.get_level_values(0)):\n",
    "    if ('rentals' in list(balance[station_id].columns)) and\\\n",
    "            ('drops' in list(balance[station_id].columns)):\n",
    "        initial_load = initial_loads.loc[station_id] if station_id in initial_loads else 15\n",
    "        capacity = capacities.loc[station_id] if station_id in capacities else 15\n",
    "        # print(\"station: {}, capacity: {}, initial load: {}\".format(station_id, capacity, initial_load))\n",
    "\n",
    "        balance[station_id, \"total\"] = initial_load + balance[station_id].drops - balance[station_id].rentals\n",
    "        alerts = list()\n",
    "        for tot in balance[station_id, \"total\"]:\n",
    "            if tot < 0:\n",
    "                alerts.append(\"EMPTY\")\n",
    "            elif tot < LOW_WARN:\n",
    "                alerts.append(\"LOW\")\n",
    "            elif tot >= capacity:\n",
    "                alerts.append(\"FULL\")\n",
    "            elif tot >= capacity - HIGH_WARN:\n",
    "                alerts.append(\"HIGH\")\n",
    "            else:\n",
    "                alerts.append(\"OK\")\n",
    "        balance[station_id, \"alerts\"] = alerts"
   ]
  },
  {
   "cell_type": "markdown",
   "metadata": {},
   "source": [
    "#### Plot station status"
   ]
  },
  {
   "cell_type": "code",
   "execution_count": 133,
   "metadata": {},
   "outputs": [
    {
     "ename": "KeyError",
     "evalue": "'72'",
     "output_type": "error",
     "traceback": [
      "\u001b[0;31m---------------------------------------------------------------------------\u001b[0m",
      "\u001b[0;31mKeyError\u001b[0m                                  Traceback (most recent call last)",
      "\u001b[0;32m/Library/Frameworks/Python.framework/Versions/3.6/lib/python3.6/site-packages/pandas/core/indexes/base.py\u001b[0m in \u001b[0;36mget_loc\u001b[0;34m(self, key, method, tolerance)\u001b[0m\n\u001b[1;32m   2521\u001b[0m             \u001b[0;32mtry\u001b[0m\u001b[0;34m:\u001b[0m\u001b[0;34m\u001b[0m\u001b[0m\n\u001b[0;32m-> 2522\u001b[0;31m                 \u001b[0;32mreturn\u001b[0m \u001b[0mself\u001b[0m\u001b[0;34m.\u001b[0m\u001b[0m_engine\u001b[0m\u001b[0;34m.\u001b[0m\u001b[0mget_loc\u001b[0m\u001b[0;34m(\u001b[0m\u001b[0mkey\u001b[0m\u001b[0;34m)\u001b[0m\u001b[0;34m\u001b[0m\u001b[0m\n\u001b[0m\u001b[1;32m   2523\u001b[0m             \u001b[0;32mexcept\u001b[0m \u001b[0mKeyError\u001b[0m\u001b[0;34m:\u001b[0m\u001b[0;34m\u001b[0m\u001b[0m\n",
      "\u001b[0;32mpandas/_libs/index.pyx\u001b[0m in \u001b[0;36mpandas._libs.index.IndexEngine.get_loc\u001b[0;34m()\u001b[0m\n",
      "\u001b[0;32mpandas/_libs/index.pyx\u001b[0m in \u001b[0;36mpandas._libs.index.IndexEngine.get_loc\u001b[0;34m()\u001b[0m\n",
      "\u001b[0;32mpandas/_libs/hashtable_class_helper.pxi\u001b[0m in \u001b[0;36mpandas._libs.hashtable.PyObjectHashTable.get_item\u001b[0;34m()\u001b[0m\n",
      "\u001b[0;32mpandas/_libs/hashtable_class_helper.pxi\u001b[0m in \u001b[0;36mpandas._libs.hashtable.PyObjectHashTable.get_item\u001b[0;34m()\u001b[0m\n",
      "\u001b[0;31mKeyError\u001b[0m: '72'",
      "\nDuring handling of the above exception, another exception occurred:\n",
      "\u001b[0;31mKeyError\u001b[0m                                  Traceback (most recent call last)",
      "\u001b[0;32m<ipython-input-133-84ea15b49d04>\u001b[0m in \u001b[0;36m<module>\u001b[0;34m()\u001b[0m\n\u001b[1;32m      2\u001b[0m \u001b[0mfig\u001b[0m\u001b[0;34m,\u001b[0m \u001b[0maxes\u001b[0m \u001b[0;34m=\u001b[0m \u001b[0mplt\u001b[0m\u001b[0;34m.\u001b[0m\u001b[0msubplots\u001b[0m\u001b[0;34m(\u001b[0m\u001b[0mnrows\u001b[0m\u001b[0;34m=\u001b[0m\u001b[0;36m2\u001b[0m\u001b[0;34m,\u001b[0m \u001b[0mncols\u001b[0m\u001b[0;34m=\u001b[0m\u001b[0;36m1\u001b[0m\u001b[0;34m)\u001b[0m  \u001b[0;31m# define matplotlib layout\u001b[0m\u001b[0;34m\u001b[0m\u001b[0m\n\u001b[1;32m      3\u001b[0m \u001b[0mstation\u001b[0m\u001b[0;34m[\u001b[0m\u001b[0;34m[\u001b[0m\u001b[0;34m'rentals'\u001b[0m\u001b[0;34m,\u001b[0m \u001b[0;34m'drops'\u001b[0m\u001b[0;34m]\u001b[0m\u001b[0;34m]\u001b[0m\u001b[0;34m.\u001b[0m\u001b[0mplot\u001b[0m\u001b[0;34m(\u001b[0m\u001b[0max\u001b[0m\u001b[0;34m=\u001b[0m\u001b[0maxes\u001b[0m\u001b[0;34m[\u001b[0m\u001b[0;36m0\u001b[0m\u001b[0;34m]\u001b[0m\u001b[0;34m)\u001b[0m  \u001b[0;31m# cumulated renatls and drops\u001b[0m\u001b[0;34m\u001b[0m\u001b[0m\n\u001b[0;32m----> 4\u001b[0;31m \u001b[0mCAP\u001b[0m \u001b[0;34m=\u001b[0m \u001b[0mstation_status\u001b[0m\u001b[0;34m[\u001b[0m\u001b[0;34m'72'\u001b[0m\u001b[0;34m]\u001b[0m\u001b[0;34m.\u001b[0m\u001b[0mnum_bikes_available\u001b[0m\u001b[0;34m+\u001b[0m\u001b[0mstation_status\u001b[0m\u001b[0;34m[\u001b[0m\u001b[0;34m'72'\u001b[0m\u001b[0;34m]\u001b[0m\u001b[0;34m.\u001b[0m\u001b[0mnum_docks_available\u001b[0m\u001b[0;34m\u001b[0m\u001b[0m\n\u001b[0m\u001b[1;32m      5\u001b[0m \u001b[0;31m#plot conditioanlly station load temporal profile\u001b[0m\u001b[0;34m\u001b[0m\u001b[0;34m\u001b[0m\u001b[0m\n\u001b[1;32m      6\u001b[0m \u001b[0;32mfor\u001b[0m \u001b[0mi\u001b[0m \u001b[0;32min\u001b[0m \u001b[0mstation\u001b[0m\u001b[0;34m.\u001b[0m\u001b[0malerts\u001b[0m\u001b[0;34m.\u001b[0m\u001b[0munique\u001b[0m\u001b[0;34m(\u001b[0m\u001b[0;34m)\u001b[0m\u001b[0;34m:\u001b[0m\u001b[0;34m\u001b[0m\u001b[0m\n",
      "\u001b[0;32m/Library/Frameworks/Python.framework/Versions/3.6/lib/python3.6/site-packages/pandas/core/frame.py\u001b[0m in \u001b[0;36m__getitem__\u001b[0;34m(self, key)\u001b[0m\n\u001b[1;32m   2137\u001b[0m             \u001b[0;32mreturn\u001b[0m \u001b[0mself\u001b[0m\u001b[0;34m.\u001b[0m\u001b[0m_getitem_multilevel\u001b[0m\u001b[0;34m(\u001b[0m\u001b[0mkey\u001b[0m\u001b[0;34m)\u001b[0m\u001b[0;34m\u001b[0m\u001b[0m\n\u001b[1;32m   2138\u001b[0m         \u001b[0;32melse\u001b[0m\u001b[0;34m:\u001b[0m\u001b[0;34m\u001b[0m\u001b[0m\n\u001b[0;32m-> 2139\u001b[0;31m             \u001b[0;32mreturn\u001b[0m \u001b[0mself\u001b[0m\u001b[0;34m.\u001b[0m\u001b[0m_getitem_column\u001b[0m\u001b[0;34m(\u001b[0m\u001b[0mkey\u001b[0m\u001b[0;34m)\u001b[0m\u001b[0;34m\u001b[0m\u001b[0m\n\u001b[0m\u001b[1;32m   2140\u001b[0m \u001b[0;34m\u001b[0m\u001b[0m\n\u001b[1;32m   2141\u001b[0m     \u001b[0;32mdef\u001b[0m \u001b[0m_getitem_column\u001b[0m\u001b[0;34m(\u001b[0m\u001b[0mself\u001b[0m\u001b[0;34m,\u001b[0m \u001b[0mkey\u001b[0m\u001b[0;34m)\u001b[0m\u001b[0;34m:\u001b[0m\u001b[0;34m\u001b[0m\u001b[0m\n",
      "\u001b[0;32m/Library/Frameworks/Python.framework/Versions/3.6/lib/python3.6/site-packages/pandas/core/frame.py\u001b[0m in \u001b[0;36m_getitem_column\u001b[0;34m(self, key)\u001b[0m\n\u001b[1;32m   2144\u001b[0m         \u001b[0;31m# get column\u001b[0m\u001b[0;34m\u001b[0m\u001b[0;34m\u001b[0m\u001b[0m\n\u001b[1;32m   2145\u001b[0m         \u001b[0;32mif\u001b[0m \u001b[0mself\u001b[0m\u001b[0;34m.\u001b[0m\u001b[0mcolumns\u001b[0m\u001b[0;34m.\u001b[0m\u001b[0mis_unique\u001b[0m\u001b[0;34m:\u001b[0m\u001b[0;34m\u001b[0m\u001b[0m\n\u001b[0;32m-> 2146\u001b[0;31m             \u001b[0;32mreturn\u001b[0m \u001b[0mself\u001b[0m\u001b[0;34m.\u001b[0m\u001b[0m_get_item_cache\u001b[0m\u001b[0;34m(\u001b[0m\u001b[0mkey\u001b[0m\u001b[0;34m)\u001b[0m\u001b[0;34m\u001b[0m\u001b[0m\n\u001b[0m\u001b[1;32m   2147\u001b[0m \u001b[0;34m\u001b[0m\u001b[0m\n\u001b[1;32m   2148\u001b[0m         \u001b[0;31m# duplicate columns & possible reduce dimensionality\u001b[0m\u001b[0;34m\u001b[0m\u001b[0;34m\u001b[0m\u001b[0m\n",
      "\u001b[0;32m/Library/Frameworks/Python.framework/Versions/3.6/lib/python3.6/site-packages/pandas/core/generic.py\u001b[0m in \u001b[0;36m_get_item_cache\u001b[0;34m(self, item)\u001b[0m\n\u001b[1;32m   1840\u001b[0m         \u001b[0mres\u001b[0m \u001b[0;34m=\u001b[0m \u001b[0mcache\u001b[0m\u001b[0;34m.\u001b[0m\u001b[0mget\u001b[0m\u001b[0;34m(\u001b[0m\u001b[0mitem\u001b[0m\u001b[0;34m)\u001b[0m\u001b[0;34m\u001b[0m\u001b[0m\n\u001b[1;32m   1841\u001b[0m         \u001b[0;32mif\u001b[0m \u001b[0mres\u001b[0m \u001b[0;32mis\u001b[0m \u001b[0;32mNone\u001b[0m\u001b[0;34m:\u001b[0m\u001b[0;34m\u001b[0m\u001b[0m\n\u001b[0;32m-> 1842\u001b[0;31m             \u001b[0mvalues\u001b[0m \u001b[0;34m=\u001b[0m \u001b[0mself\u001b[0m\u001b[0;34m.\u001b[0m\u001b[0m_data\u001b[0m\u001b[0;34m.\u001b[0m\u001b[0mget\u001b[0m\u001b[0;34m(\u001b[0m\u001b[0mitem\u001b[0m\u001b[0;34m)\u001b[0m\u001b[0;34m\u001b[0m\u001b[0m\n\u001b[0m\u001b[1;32m   1843\u001b[0m             \u001b[0mres\u001b[0m \u001b[0;34m=\u001b[0m \u001b[0mself\u001b[0m\u001b[0;34m.\u001b[0m\u001b[0m_box_item_values\u001b[0m\u001b[0;34m(\u001b[0m\u001b[0mitem\u001b[0m\u001b[0;34m,\u001b[0m \u001b[0mvalues\u001b[0m\u001b[0;34m)\u001b[0m\u001b[0;34m\u001b[0m\u001b[0m\n\u001b[1;32m   1844\u001b[0m             \u001b[0mcache\u001b[0m\u001b[0;34m[\u001b[0m\u001b[0mitem\u001b[0m\u001b[0;34m]\u001b[0m \u001b[0;34m=\u001b[0m \u001b[0mres\u001b[0m\u001b[0;34m\u001b[0m\u001b[0m\n",
      "\u001b[0;32m/Library/Frameworks/Python.framework/Versions/3.6/lib/python3.6/site-packages/pandas/core/internals.py\u001b[0m in \u001b[0;36mget\u001b[0;34m(self, item, fastpath)\u001b[0m\n\u001b[1;32m   3836\u001b[0m \u001b[0;34m\u001b[0m\u001b[0m\n\u001b[1;32m   3837\u001b[0m             \u001b[0;32mif\u001b[0m \u001b[0;32mnot\u001b[0m \u001b[0misna\u001b[0m\u001b[0;34m(\u001b[0m\u001b[0mitem\u001b[0m\u001b[0;34m)\u001b[0m\u001b[0;34m:\u001b[0m\u001b[0;34m\u001b[0m\u001b[0m\n\u001b[0;32m-> 3838\u001b[0;31m                 \u001b[0mloc\u001b[0m \u001b[0;34m=\u001b[0m \u001b[0mself\u001b[0m\u001b[0;34m.\u001b[0m\u001b[0mitems\u001b[0m\u001b[0;34m.\u001b[0m\u001b[0mget_loc\u001b[0m\u001b[0;34m(\u001b[0m\u001b[0mitem\u001b[0m\u001b[0;34m)\u001b[0m\u001b[0;34m\u001b[0m\u001b[0m\n\u001b[0m\u001b[1;32m   3839\u001b[0m             \u001b[0;32melse\u001b[0m\u001b[0;34m:\u001b[0m\u001b[0;34m\u001b[0m\u001b[0m\n\u001b[1;32m   3840\u001b[0m                 \u001b[0mindexer\u001b[0m \u001b[0;34m=\u001b[0m \u001b[0mnp\u001b[0m\u001b[0;34m.\u001b[0m\u001b[0marange\u001b[0m\u001b[0;34m(\u001b[0m\u001b[0mlen\u001b[0m\u001b[0;34m(\u001b[0m\u001b[0mself\u001b[0m\u001b[0;34m.\u001b[0m\u001b[0mitems\u001b[0m\u001b[0;34m)\u001b[0m\u001b[0;34m)\u001b[0m\u001b[0;34m[\u001b[0m\u001b[0misna\u001b[0m\u001b[0;34m(\u001b[0m\u001b[0mself\u001b[0m\u001b[0;34m.\u001b[0m\u001b[0mitems\u001b[0m\u001b[0;34m)\u001b[0m\u001b[0;34m]\u001b[0m\u001b[0;34m\u001b[0m\u001b[0m\n",
      "\u001b[0;32m/Library/Frameworks/Python.framework/Versions/3.6/lib/python3.6/site-packages/pandas/core/indexes/base.py\u001b[0m in \u001b[0;36mget_loc\u001b[0;34m(self, key, method, tolerance)\u001b[0m\n\u001b[1;32m   2522\u001b[0m                 \u001b[0;32mreturn\u001b[0m \u001b[0mself\u001b[0m\u001b[0;34m.\u001b[0m\u001b[0m_engine\u001b[0m\u001b[0;34m.\u001b[0m\u001b[0mget_loc\u001b[0m\u001b[0;34m(\u001b[0m\u001b[0mkey\u001b[0m\u001b[0;34m)\u001b[0m\u001b[0;34m\u001b[0m\u001b[0m\n\u001b[1;32m   2523\u001b[0m             \u001b[0;32mexcept\u001b[0m \u001b[0mKeyError\u001b[0m\u001b[0;34m:\u001b[0m\u001b[0;34m\u001b[0m\u001b[0m\n\u001b[0;32m-> 2524\u001b[0;31m                 \u001b[0;32mreturn\u001b[0m \u001b[0mself\u001b[0m\u001b[0;34m.\u001b[0m\u001b[0m_engine\u001b[0m\u001b[0;34m.\u001b[0m\u001b[0mget_loc\u001b[0m\u001b[0;34m(\u001b[0m\u001b[0mself\u001b[0m\u001b[0;34m.\u001b[0m\u001b[0m_maybe_cast_indexer\u001b[0m\u001b[0;34m(\u001b[0m\u001b[0mkey\u001b[0m\u001b[0;34m)\u001b[0m\u001b[0;34m)\u001b[0m\u001b[0;34m\u001b[0m\u001b[0m\n\u001b[0m\u001b[1;32m   2525\u001b[0m \u001b[0;34m\u001b[0m\u001b[0m\n\u001b[1;32m   2526\u001b[0m         \u001b[0mindexer\u001b[0m \u001b[0;34m=\u001b[0m \u001b[0mself\u001b[0m\u001b[0;34m.\u001b[0m\u001b[0mget_indexer\u001b[0m\u001b[0;34m(\u001b[0m\u001b[0;34m[\u001b[0m\u001b[0mkey\u001b[0m\u001b[0;34m]\u001b[0m\u001b[0;34m,\u001b[0m \u001b[0mmethod\u001b[0m\u001b[0;34m=\u001b[0m\u001b[0mmethod\u001b[0m\u001b[0;34m,\u001b[0m \u001b[0mtolerance\u001b[0m\u001b[0;34m=\u001b[0m\u001b[0mtolerance\u001b[0m\u001b[0;34m)\u001b[0m\u001b[0;34m\u001b[0m\u001b[0m\n",
      "\u001b[0;32mpandas/_libs/index.pyx\u001b[0m in \u001b[0;36mpandas._libs.index.IndexEngine.get_loc\u001b[0;34m()\u001b[0m\n",
      "\u001b[0;32mpandas/_libs/index.pyx\u001b[0m in \u001b[0;36mpandas._libs.index.IndexEngine.get_loc\u001b[0;34m()\u001b[0m\n",
      "\u001b[0;32mpandas/_libs/hashtable_class_helper.pxi\u001b[0m in \u001b[0;36mpandas._libs.hashtable.PyObjectHashTable.get_item\u001b[0;34m()\u001b[0m\n",
      "\u001b[0;32mpandas/_libs/hashtable_class_helper.pxi\u001b[0m in \u001b[0;36mpandas._libs.hashtable.PyObjectHashTable.get_item\u001b[0;34m()\u001b[0m\n",
      "\u001b[0;31mKeyError\u001b[0m: '72'"
     ]
    }
   ],
   "source": [
    "station = balance[72]  #set the station to visualize\n",
    "fig, axes = plt.subplots(nrows=2, ncols=1)  # define matplotlib layout\n",
    "station[['rentals', 'drops']].plot(ax=axes[0])  # cumulated renatls and drops\n",
    "CAP = station_status.iloc('72').num_bikes_available+station_status['72'].num_docks_available\n",
    "#plot conditioanlly station load temporal profile\n",
    "for i in station.alerts.unique():\n",
    "    df = station.where(station.alerts == i).total\n",
    "    df.plot(ax=axes[1], color=PLOT_STYLES[i]['color'], lw=PLOT_STYLES[i]['lw'])\n",
    "\n",
    "axes[1].axhline(y=15,color='black', linestyle='--', lw=0.8)\n",
    "axes[1].axhline(y=15-HIGH_WARN,color='gray', linestyle=':', lw=0.5)\n",
    "axes[1].axhline(y=LOW_WARN,color='gray', linestyle=':', lw=0.5)\n",
    "axes[1].axhline(y=0,color='black', linestyle='--', lw=0.8)\n",
    "\n",
    "axes[0].set_ylabel(\"Total drops and rentals\")\n",
    "axes[1].set_ylabel(\"Number of bikes available\")\n",
    "axes[0].set_title('Balance at station' + str(station_id))\n",
    "\n",
    "\n",
    "plt.text(0.8, 0.9, \"Report:\", horizontalalignment='left', verticalalignment='center', transform=axes[1].transAxes)\n",
    "#plt.text(0.8, 0.8, \"lost drops: \"+str(int(report['lost_drops'])), horizontalalignment='left',\n",
    "#         verticalalignment='center', transform=axes[1].transAxes)\n",
    "#plt.text(0.8, 0.7, \"lost rentals: \" + str(int(report['lost_rents'])), horizontalalignment='left',\n",
    "#         verticalalignment='center',\n",
    "#         transform=axes[1].transAxes)\n",
    "\n",
    "plt.show()\n"
   ]
  },
  {
   "cell_type": "code",
   "execution_count": null,
   "metadata": {},
   "outputs": [],
   "source": []
  }
 ],
 "metadata": {
  "kernelspec": {
   "display_name": "Python 3",
   "language": "python",
   "name": "python3"
  },
  "language_info": {
   "codemirror_mode": {
    "name": "ipython",
    "version": 3
   },
   "file_extension": ".py",
   "mimetype": "text/x-python",
   "name": "python",
   "nbconvert_exporter": "python",
   "pygments_lexer": "ipython3",
   "version": "3.6.3"
  }
 },
 "nbformat": 4,
 "nbformat_minor": 1
}
